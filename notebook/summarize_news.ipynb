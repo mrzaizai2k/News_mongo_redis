{
 "cells": [
  {
   "cell_type": "code",
   "execution_count": 41,
   "metadata": {},
   "outputs": [
    {
     "name": "stdout",
     "output_type": "stream",
     "text": [
      "/root/code_Bao/News_mongo_redis/notebook\n"
     ]
    }
   ],
   "source": [
    "import os\n",
    "try:\n",
    "    print(file_path)\n",
    "except:\n",
    "    file_path = os.path.abspath('')\n",
    "    os.chdir(os.path.dirname(file_path))\n",
    "    print(file_path)"
   ]
  },
  {
   "cell_type": "code",
   "execution_count": 265,
   "metadata": {},
   "outputs": [],
   "source": [
    "import sys\n",
    "sys.path.append(\"\")\n",
    "\n",
    "from datetime import datetime\n",
    "import requests\n",
    "from dotenv import load_dotenv\n",
    "load_dotenv()\n",
    "import os\n",
    "\n",
    "from src.redis_database import *\n",
    "from src.crawl_and_summarize_news import *"
   ]
  },
  {
   "cell_type": "markdown",
   "metadata": {},
   "source": [
    "# Crawl news\n",
    "\n",
    "Ở đây ta crawl hết báo từ 2 trang ZingNews và CafeF (Chỉ crawl khoảng 100 bài). Một bài báo đầy đủ có các thành phần \n",
    "- 'title': \"Bộ đôi iPhone mãi vẫn không bị 'khai tử' ở Việt Nam\",\n",
    "- 'link': 'https://znews.vn/bo-doi-iphone-mai-van-khong-bi-khai-tu-o-viet-nam-post1458086.html',\n",
    "- 'authors': ['Xuân Sang'],\n",
    "- 'language': 'vi',\n",
    "- 'description': 'iPhone 11, iPhone 12 không còn trên website Apple, nhưng vẫn được sản xuất mới để bán ở những thị trường như Việt Nam, Ấn Độ.',\n",
    "- 'publish_date': : datetime.datetime(2024, 2, 2, 18, 46, 52, tzinfo=tzoffset(None, 25200))"
   ]
  },
  {
   "cell_type": "code",
   "execution_count": 43,
   "metadata": {},
   "outputs": [],
   "source": [
    "news_scraper = NewsScraper()\n"
   ]
  },
  {
   "cell_type": "code",
   "execution_count": 44,
   "metadata": {},
   "outputs": [
    {
     "name": "stdout",
     "output_type": "stream",
     "text": [
      "Crawling url: https://znews.vn/\n",
      "Crawling url: https://cafef.vn/\n"
     ]
    }
   ],
   "source": [
    "formatted_docs = news_scraper.get_all_news()"
   ]
  },
  {
   "cell_type": "code",
   "execution_count": 45,
   "metadata": {},
   "outputs": [
    {
     "name": "stdout",
     "output_type": "stream",
     "text": [
      "Lằn ranh về sống chết là một thứ rất mong manh. Đừng nghĩ ngợi quá nhiều về cái chết, bởi đôi khi đó lại là khởi đầu cho một hành trình mới.\n",
      "\n",
      "Đừng sợ hãi về cái chết, hãy tận hưởng cuộc sống với thái độ tích cực. Ảnh: NLĐ.\n",
      "\n",
      "[...]\n",
      "\n",
      "Khi trưởng thành, việc già đi nhắc chúng ta nhớ về sự mất mát; do đó, nó buộc chúng ta nhìn vào khoảng trống này, thứ đã bị mở ra vào thời thơ ấu. Giải phóng mình khỏi cái chết là mục tiêu của mọi tôn giáo: “Ôi cái chết, ngòi của ngươi ở đâu? Ôi nấm mồ, chiến thắng của ngươi ở đâu?”.\n",
      "\n",
      "Thánh Paul đã hỏi như vậy trong bức thư gửi cho các tín hữu ở Corinth. Sau đó, ông đưa ra câu trả lời: “Ngòi của cái chết là tội lỗi”, ý chỉ sai lầm hoặc sự sa ngã. Nói cách khác, cái chết là kết quả của việc con người tách rời khỏi cái Thánh thần, cái không biết đến cái chết. Ngụ ý ở đây là sự bất tử mới là đời sống thực của chúng ta.\n",
      "\n",
      "Thế con chim, con mèo hay con chó mà chết khi chúng ta còn nhỏ thì sao? Chúng diệt vong mà không hề có những niềm tin tôn giáo như vậy. Tuy nhiên, nói một con vật nào đó chết chỉ là nói theo quan điểm của con người. Hãy nhìn cái cây ngoài cửa sổ kia. Nó sống hay chết? Nó vừa sống lại vừa chết.\n",
      "\n",
      "Những chiếc lá già là chết, hạt giống mà cái cây này từ đó mọc lên cũng vậy. Gỗ bên trong thân cây là chết, ngoại trừ lớp cambium mỏng chưa đến 1,5 mm có chức năng nuôi lá với thành phần chủ yếu là những sợi cenlulose sự sống. Khi lá đổi màu vào mùa thu, xác của chúng rơi xuống đất nhưng trước đó thì chúng vẫn là một phần của cái cây sống.\n",
      "\n",
      "Ngoài ra, thức ăn, không khí và nước lưu chuyển khắp cái cây không có nhiều sự sống hơn so với khi chúng bị nhốt trong những hòn đá hay những giọt mưa; mảnh đất nuôi cái cây đó chỉ là đá cùng những hợp chất từ những cái cây trước bị phân hủy.\n",
      "\n",
      "Thứ mà chúng ta gọi là một cái cây sống chỉ là một tổ hợp của sống và chết, bất kỳ sự phân biệt nào giữa sống và chết chủ yếu nằm trong đầu chúng ta. Bất cứ động vật hay thực vật nào cũng chỉ là một giai đoạn trong chu trình liên tục, lặp đi lặp lại đến vô tận của các nguyên tố.\n",
      "\n",
      "Toàn bộ chu trình này là sự sống, và việc đi theo chu trình này là cuộc sống. Việc chúng ta cố gắng đóng băng chu trình, khiến nó bất động, và nói rằng: “Bây giờ cái cây này sống, bây giờ cái cây này chết” thể hiện nguyên tắc hoạt động của tâm trí chúng ta. Sợ sự phân hủy và tan rã, chúng ta gọi nó là cái chết trong khi trên thực tế, nó chỉ là sự đổi thay.\n",
      "\n",
      "Giống như cái cây, con thú cưng cũng chỉ là một giai đoạn của sự sống. Lúc trước, con thú cưng là một quả trứng, trước đó là một tế bào được thụ tinh, còn trước đó nữa là hạt mà mẹ nó ăn và mẹ nó đã biến những hạt đó thành quả trứng để ấp.\n",
      "\n",
      "Sau khi con thú cưng chết, nó sẽ phân hủy, các nguyên tố của nó sẽ nuôi dưỡng cây cối, và cây cối sẽ cho ra hạt để nuôi những con chim khác. Bao nhiêu phần trong cái vòng tròn vô tận này, nếu có, là cái chết, và bao nhiêu chỉ là góc nhìn của chúng ta, bao gồm cả chính chúng ta?\n",
      "\n",
      "Bạn có thể nghĩ rằng cái chết là một sự kiện kinh khủng đang chờ đợi bạn trong tương lai, trong khi thực ra các bộ phận của cơ thể bạn đều đang chết đi mỗi giây. Niêm mạc dạ dày của bạn chết đi một phần mỗi lần bạn tiêu hóa thức ăn, chỉ để được thay thế bằng tế bào mới. Điều này cũng đúng với da, tóc, móng chân, tế bào máu, cũng như mọi mô khác.\n",
      "\n",
      "Bạn có thể mặc định rằng cái chết là kẻ thù của bạn, nhưng tất cả những tế bào này chết đi để giữ cho bạn sống. Nếu niêm mạc dạ dày không chết và được thay thế hết lần này đến lần khác thì sau một vài tiếng, dịch vị sẽ làm thủng một lỗ trên thành dạ dày và rồi tất cả sẽ chết.\n",
      "\n",
      "Càng nhìn kỹ thì bạn sẽ càng thấy lằn ranh giữa cái gì là sống và cái gì là chết rất mờ. Có những phần trên cơ thể bạn có sức sống nhiều hơn hẳn những phần khác. Cơ bắp trao đổi chất nhanh hơn mỡ; tế bào não, tim và gan hiếm khi phân chia kể từ khi sinh ra, trong khi tế bào dạ dày, da và máu tự thay thế mình trong khoảng thời gian tính bằng ngày, tuần và tháng.\n",
      "\n",
      "Một thực tế kỳ lạ của giải phẫu người là nếu bằng một cách nào đó, chúng ta có thể loại bỏ tất cả các tế bào trong cơ thể thì phần còn lại sẽ vẫn trông rất giống một con người. Các bộ phận tạo nên cấu trúc của chúng ta giống một rạn san hô đứng thẳng với thành phần là xương đã được khoáng hóa, cộng thêm dây chằng, gân, mô liên kết và nước, còn toàn bộ các tế bào của chúng ta được nhét bên trong, như cách mà các polip được nhét vào trong rạn san hô bị vôi hóa mà chúng giúp che đậy.\n",
      "\n",
      "Giống như rạn san hô mang cả đại dương bên trong mình, chúng ta có 2/3 là nước muối. Nhưng những bộ phận chết này của chúng ta tự do trao đổi nguyên tử của chúng bên trong môi trường: Nếu bị tổn thương, chúng chữa lành; nếu bị đặt áp lực lên, chúng từ từ thay hình đổi dạng để giải tỏa căng thẳng. Vậy thì bao nhiêu phần của cơ thể là sống và bao nhiêu là chết?\n",
      "\n",
      "[...]\n",
      "{'title': 'Vượt qua nỗi sợ về cái chết', 'link': 'https://znews.vn/vuot-qua-noi-so-ve-cai-chet-post1457534.html', 'authors': ['Deepak Chopra', 'Thái Hà Books'], 'language': 'vi', 'description': 'Lằn ranh về sống chết là một thứ rất mong manh. Đừng nghĩ ngợi quá nhiều về cái chết, bởi đôi khi đó lại là khởi đầu cho một hành trình mới.', 'publish_date': datetime.datetime(2024, 2, 2, 19, 9, 42, tzinfo=tzoffset(None, 25200))}\n"
     ]
    }
   ],
   "source": [
    "print(formatted_docs[2][0].page_content)\n",
    "print(formatted_docs[2][0].metadata)"
   ]
  },
  {
   "cell_type": "markdown",
   "metadata": {},
   "source": [
    "Cách lấy từng element của 1 bài báo"
   ]
  },
  {
   "cell_type": "code",
   "execution_count": 111,
   "metadata": {},
   "outputs": [],
   "source": [
    "full_news = news_scraper.take_news_elements(news_url='https://znews.vn/bo-doi-iphone-mai-van-khong-bi-khai-tu-o-viet-nam-post1458086.html')"
   ]
  },
  {
   "cell_type": "code",
   "execution_count": 112,
   "metadata": {},
   "outputs": [
    {
     "data": {
      "text/plain": [
       "'iPhone 11, iPhone 12 không còn trên website Apple, nhưng vẫn được sản xuất mới để bán ở những thị trường như Việt Nam, Ấn Độ.\\n\\nKhông còn xuất hiện trên web Apple hay các thị trường lớn, iPhone 11, iPhone 12 vẫn được bán tại Việt Nam. Ảnh: PhoneArena.\\n\\nKhi ra mắt dòng iPhone 15 hồi tháng 9/2023, Apple âm thầm loại bỏ iPhone 12 khỏi danh sách thiết bị hãng còn sản xuất và kinh doanh. Mẫu iPhone 11 cũng bị “khai tử” trước đó một năm, cả hai không còn hiện diện trên cửa hàng trực tuyến của hãng. Tuy nhiên, hai chiếc máy nói trên vẫn đang được bán rộng rãi tại thị trường Việt Nam thông các kênh bán lẻ.\\n\\nTrong đó, chiếc iPhone 11 hiện có giá niêm yết khoảng 10 triệu đồng, không có nhiều chênh lệch giữa các đại lý. Phiên bản 64 GB của model nói trên là chiếc iPhone chính hãng giá rẻ nhất đang còn bán tại Việt Nam. Cao hơn khoảng 3 triệu đồng là chiếc iPhone 12 bộ nhớ mặc định. Cả hai mẫu máy này đều không có mặt trên trang web chính thức của Apple.\\n\\nMẫu máy 5 năm tuổi vẫn được sản xuất mới để phân phối chính hãng ở Việt Nam. Ảnh: TGDĐ.\\n\\n“Apple không trực tiếp phân phối iPhone 11, nguồn hàng được cung ứng qua các đối tác khác. Sức mua những dòng máy đời cũ của Táo khuyết vẫn ổn định nhờ có giá bán phải chăng”, đại diện nhà bán lẻ Thế Giới Di Động trả lời Tri Thức - ZNews.\\n\\nTheo ông Nguyễn Lạc Huy, đại diện truyền thông hệ thống CellphoneS, dòng iPhone 11 hiện chiếm khoảng 10% doanh số điện thoại Apple tại công ty. iPhone 12 ở mức 5%. “Dòng máy nói trên không còn niêm yết trên website Apple nhưng vẫn được hãng sản xuất để cung ứng cho các thị trường mới nổi như Việt Nam, Ấn Độ”, ông Huy cho biết.\\n\\nDo vậy, những chiếc iPhone 11, 12 đang kinh doanh ở hệ thống trong nước không phải mặt hàng tồn kho, mà được sản xuất mới. Thực tế, Apple từng sản xuất nhiều dòng máy cũ ở nhà máy tại Ấn Độ để cung ứng cho thị trường nói trên.\\n\\nNhư vậy, người dùng tại Việt Nam có thể chọn mua iPhone 10-30 triệu đồng, trải dài ở phân khúc giá. Ngoài đời iPhone 11, 12, với giá 15-16 triệu đồng, iPhone 13 được các nhà bán lẻ cho biết đang đóng góp phần doanh thu khá lớn cho ngành hàng. Ngoài ra còn có các lựa chọn cao hơn như iPhone 14/14 Plus và iPhone 15 series.\\n\\niPhone 11, iPhone 12 không còn xuất hiện trên website Apple. Ảnh: Apple.\\n\\nViệc sản xuất và kinh doanh thiết bị đời sâu như iPhone 11/12 cho thấy Apple có những hướng đi riêng phù hợp với thị trường Việt Nam. Hãng vẫn có sản phẩm dành riêng cho phân khúc giá này ở thị trường quốc tế, là chiếc iPhone SE 2022, mới hơn iPhone 11 đến 3 năm. Tuy nhiên, dòng máy giá rẻ, kích thước nhỏ gọn này không được người dùng trong nước ưa chuộng. Thiết kế kiểu cũ cùng mác \"iPhone giá rẻ\" khiến sản phẩm ế ẩm.\\n\\nViệc thay thế dòng SE bằng chiếc iPhone 11/12 giúp hãng tăng lợi thế cạnh tranh với các thiết bị Android có thiết kế tràn viền kiểu mới và màn hình lớn. Mẫu điện thoại ra mắt năm 2019 cũng từng là sản phẩm chủ chốt, nâng thị phần của Apple tại Việt Nam trong giai đoạn 2021-2023.\\n\\nTuy nhiên ở thời điểm hiện tại, iPhone 11 bắt đầu có những dấu hiệu lỗi thời. Sản phẩm ra mắt từ 2019, sẽ chỉ được hãng hỗ trợ cập nhật iOS thêm 1-2 năm. Màn hình HD và vi xử lý A13 Bionic cũng không phải thông số nổi trội trong phân khúc giá, với các đối thủ Android đời mới như Galaxy A series của Samsung hay OPPO Reno11.'"
      ]
     },
     "execution_count": 112,
     "metadata": {},
     "output_type": "execute_result"
    }
   ],
   "source": [
    "full_news[0].page_content"
   ]
  },
  {
   "cell_type": "code",
   "execution_count": 113,
   "metadata": {},
   "outputs": [
    {
     "data": {
      "text/plain": [
       "{'title': \"Bộ đôi iPhone mãi vẫn không bị 'khai tử' ở Việt Nam\",\n",
       " 'link': 'https://znews.vn/bo-doi-iphone-mai-van-khong-bi-khai-tu-o-viet-nam-post1458086.html',\n",
       " 'authors': ['Xuân Sang'],\n",
       " 'language': 'vi',\n",
       " 'description': 'iPhone 11, iPhone 12 không còn trên website Apple, nhưng vẫn được sản xuất mới để bán ở những thị trường như Việt Nam, Ấn Độ.',\n",
       " 'publish_date': datetime.datetime(2024, 2, 2, 18, 46, 52, tzinfo=tzoffset(None, 25200))}"
      ]
     },
     "execution_count": 113,
     "metadata": {},
     "output_type": "execute_result"
    }
   ],
   "source": [
    "full_news[0].metadata"
   ]
  },
  {
   "cell_type": "markdown",
   "metadata": {},
   "source": [
    "# News Summary"
   ]
  },
  {
   "cell_type": "markdown",
   "metadata": {},
   "source": [
    "Tạo thử data Summary để lưu vào Redis. Giả sử đây là data lấy được từ MongoDB"
   ]
  },
  {
   "cell_type": "code",
   "execution_count": 114,
   "metadata": {},
   "outputs": [],
   "source": [
    "input_dict = full_news[0].metadata\n",
    "full_news = {\n",
    "    'title': input_dict['title'],\n",
    "    'link': input_dict['link'],\n",
    "    'authors': ', '.join(input_dict['authors']),\n",
    "    'publish_date': input_dict['publish_date'].strftime('%Y-%m-%d'),\n",
    "    'page_content': full_news[0].page_content,\n",
    "}"
   ]
  },
  {
   "cell_type": "code",
   "execution_count": 115,
   "metadata": {},
   "outputs": [
    {
     "name": "stderr",
     "output_type": "stream",
     "text": [
      "/root/code_Bao/News_mongo_redis/venv/lib/python3.10/site-packages/transformers/pipelines/base.py:1101: UserWarning: You seem to be using the pipelines sequentially on GPU. In order to maximize efficiency please use a dataset\n",
      "  warnings.warn(\n"
     ]
    }
   ],
   "source": [
    "new_summarizer = NewsSummarizer()\n",
    "sum_news = new_summarizer.summary_news_for_redis(full_news= full_news)"
   ]
  },
  {
   "cell_type": "code",
   "execution_count": 116,
   "metadata": {},
   "outputs": [
    {
     "data": {
      "text/plain": [
       "{'title': \"Bộ đôi iPhone mãi vẫn không bị 'khai tử' ở Việt Nam\",\n",
       " 'link': 'https://znews.vn/bo-doi-iphone-mai-van-khong-bi-khai-tu-o-viet-nam-post1458086.html',\n",
       " 'authors': 'Xuân Sang',\n",
       " 'publish_date': '2024-02-02',\n",
       " 'page_content': 'iPhone 11, iPhone 12 không còn trên website Apple, nhưng vẫn được sản xuất mới để bán ở những thị trường như Việt Nam, Ấn Độ.\\n\\nKhông còn xuất hiện trên web Apple hay các thị trường lớn, iPhone 11, iPhone 12 vẫn được bán tại Việt Nam. Ảnh: PhoneArena.\\n\\nKhi ra mắt dòng iPhone 15 hồi tháng 9/2023, Apple âm thầm loại bỏ iPhone 12 khỏi danh sách thiết bị hãng còn sản xuất và kinh doanh. Mẫu iPhone 11 cũng bị “khai tử” trước đó một năm, cả hai không còn hiện diện trên cửa hàng trực tuyến của hãng. Tuy nhiên, hai chiếc máy nói trên vẫn đang được bán rộng rãi tại thị trường Việt Nam thông các kênh bán lẻ.\\n\\nTrong đó, chiếc iPhone 11 hiện có giá niêm yết khoảng 10 triệu đồng, không có nhiều chênh lệch giữa các đại lý. Phiên bản 64 GB của model nói trên là chiếc iPhone chính hãng giá rẻ nhất đang còn bán tại Việt Nam. Cao hơn khoảng 3 triệu đồng là chiếc iPhone 12 bộ nhớ mặc định. Cả hai mẫu máy này đều không có mặt trên trang web chính thức của Apple.\\n\\nMẫu máy 5 năm tuổi vẫn được sản xuất mới để phân phối chính hãng ở Việt Nam. Ảnh: TGDĐ.\\n\\n“Apple không trực tiếp phân phối iPhone 11, nguồn hàng được cung ứng qua các đối tác khác. Sức mua những dòng máy đời cũ của Táo khuyết vẫn ổn định nhờ có giá bán phải chăng”, đại diện nhà bán lẻ Thế Giới Di Động trả lời Tri Thức - ZNews.\\n\\nTheo ông Nguyễn Lạc Huy, đại diện truyền thông hệ thống CellphoneS, dòng iPhone 11 hiện chiếm khoảng 10% doanh số điện thoại Apple tại công ty. iPhone 12 ở mức 5%. “Dòng máy nói trên không còn niêm yết trên website Apple nhưng vẫn được hãng sản xuất để cung ứng cho các thị trường mới nổi như Việt Nam, Ấn Độ”, ông Huy cho biết.\\n\\nDo vậy, những chiếc iPhone 11, 12 đang kinh doanh ở hệ thống trong nước không phải mặt hàng tồn kho, mà được sản xuất mới. Thực tế, Apple từng sản xuất nhiều dòng máy cũ ở nhà máy tại Ấn Độ để cung ứng cho thị trường nói trên.\\n\\nNhư vậy, người dùng tại Việt Nam có thể chọn mua iPhone 10-30 triệu đồng, trải dài ở phân khúc giá. Ngoài đời iPhone 11, 12, với giá 15-16 triệu đồng, iPhone 13 được các nhà bán lẻ cho biết đang đóng góp phần doanh thu khá lớn cho ngành hàng. Ngoài ra còn có các lựa chọn cao hơn như iPhone 14/14 Plus và iPhone 15 series.\\n\\niPhone 11, iPhone 12 không còn xuất hiện trên website Apple. Ảnh: Apple.\\n\\nViệc sản xuất và kinh doanh thiết bị đời sâu như iPhone 11/12 cho thấy Apple có những hướng đi riêng phù hợp với thị trường Việt Nam. Hãng vẫn có sản phẩm dành riêng cho phân khúc giá này ở thị trường quốc tế, là chiếc iPhone SE 2022, mới hơn iPhone 11 đến 3 năm. Tuy nhiên, dòng máy giá rẻ, kích thước nhỏ gọn này không được người dùng trong nước ưa chuộng. Thiết kế kiểu cũ cùng mác \"iPhone giá rẻ\" khiến sản phẩm ế ẩm.\\n\\nViệc thay thế dòng SE bằng chiếc iPhone 11/12 giúp hãng tăng lợi thế cạnh tranh với các thiết bị Android có thiết kế tràn viền kiểu mới và màn hình lớn. Mẫu điện thoại ra mắt năm 2019 cũng từng là sản phẩm chủ chốt, nâng thị phần của Apple tại Việt Nam trong giai đoạn 2021-2023.\\n\\nTuy nhiên ở thời điểm hiện tại, iPhone 11 bắt đầu có những dấu hiệu lỗi thời. Sản phẩm ra mắt từ 2019, sẽ chỉ được hãng hỗ trợ cập nhật iOS thêm 1-2 năm. Màn hình HD và vi xử lý A13 Bionic cũng không phải thông số nổi trội trong phân khúc giá, với các đối thủ Android đời mới như Galaxy A series của Samsung hay OPPO Reno11.',\n",
       " 'summary_text': 'iPhone 11 và iPhone 12 vẫn mới được sản xuất để phân phối chính hãng tại Việt Nam. \\nMẫu iPhone 11 cũng đã bị “ngưng sản xuất” cách đây một năm, cả hai đều không còn hiện diện trên cửa hàng trực tuyến của Apple. \\nĐặc biệt, iPhone 11 hiện có giá niêm yết khoảng 10 triệu đồng.\\n\\niPhone 13 được cho là đang đóng góp phần lớn doanh thu cho ngành. \\nNgoài ra còn có những lựa chọn cao hơn như iPhone 14/14 Plus và iPhone 15 series. \\nApple vẫn có sản phẩm dành riêng cho phân khúc giá này trên thị trường quốc tế.\\n'}"
      ]
     },
     "execution_count": 116,
     "metadata": {},
     "output_type": "execute_result"
    }
   ],
   "source": [
    "sum_news"
   ]
  },
  {
   "cell_type": "markdown",
   "metadata": {},
   "source": [
    "# Save data in Redis"
   ]
  },
  {
   "cell_type": "code",
   "execution_count": 266,
   "metadata": {},
   "outputs": [
    {
     "name": "stdout",
     "output_type": "stream",
     "text": [
      "Connected: True\n",
      "Database flushed at 2024-02-03 10:32:56.078371\n"
     ]
    }
   ],
   "source": [
    "redis_db = RedisDatabase()\n",
    "redis_db.flush_database()\n",
    "redis_db.initilize_schema()"
   ]
  },
  {
   "cell_type": "code",
   "execution_count": 267,
   "metadata": {},
   "outputs": [
    {
     "data": {
      "text/plain": [
       "{'title': \"'Đại gia' nào đang hiện diện trên thị trường bệnh viện tư nhân?\",\n",
       " 'link': 'https://znews.vn/dai-gia-nao-dang-hien-dien-tren-thi-truong-benh-vien-tu-nhan-post1453268.html',\n",
       " 'authors': 'Thanh Thương',\n",
       " 'publish_date': '2024-01-08',\n",
       " 'page_content': 'Cuộc chiến tranh giành thị phần trong lĩnh vực chăm sóc sức khỏe đang \"nóng\" hơn khi ngày càng nhiều bệnh viện tư nhân được các doanh nghiệp trong và ngoài nước đầu tư mở rộng.\\n\\nHơn chục năm về trước, thị trường chăm sóc sức khỏe tại Việt Nam chủ yếu là sân chơi của các doanh nghiệp nội.\\n\\nNhưng đến nay, nhiều ông lớn ngoại đã và đang gia nhập vào cuộc đua giành vị thế trong lĩnh vực y tế bằng nhiều thương vụ mua bán và sáp nhập (M&A) đình đám.\\n\\nNhững bệnh viện 100% vốn ngoại tại Việt Nam\\n\\nBệnh viện Việt Pháp (Hà Nội) thành lập năm 1997 là bệnh viện 100% vốn nước ngoài đầu tiên ở Việt Nam. Từ năm 2000, công ty Eukaria (Pháp) tiếp quản bệnh viện sau khi mua lại cổ phần của Công ty Indochina Medical (IMC) của Australia. Sau hơn 25 năm hoạt động, đến nay bệnh viện đã nâng công suất lên 170 giường bệnh.\\n\\nCũng sở hữu 100% vốn nước ngoài, bệnh viện FV (TP.HCM) do bác sĩ Jean-Marcel Guillon và nhóm bác sĩ người Pháp thành lập năm 2003. FV có số vốn điều lệ ban đầu là 224 tỷ đồng .\\n\\nHiện FV có 230 giường bệnh, 36 chuyên khoa với khả năng tiếp nhận 1.500 lượt bệnh nhân mỗi ngày. Năm 2023, bệnh viện FV đưa vào hoạt động thêm một phòng khám đa khoa và trung tâm chẩn đoán ở trung tâm TP.HCM.\\n\\nHồi tháng 7/2023, Thomson Medical - ông lớn trong lĩnh vực chăm sóc sức khỏe, y tế Singapore và Malaysia - thông báo chi 381,4 triệu USD (khoảng hơn 9.000 tỷ đồng ) để mua lại Công ty TNHH Y tế Viễn Đông Việt Nam (FEMV) - chủ quản Bệnh viện FV (TP.HCM). Đây là thương vụ M&A trong lĩnh vực chăm sóc sức khỏe lớn nhất Đông Nam Á kể từ năm 2020.\\n\\nTrong khi đó, Hoàn Mỹ vốn là một \"ông lớn\" trong phân khúc bệnh viện tư nhân, được thành lập từ năm 1997 bởi bác sĩ Nguyễn Hữu Tùng. Đây cũng là một trong những hệ thống bệnh viện tư đầu tiên tại Việt Nam.\\n\\nTuy nhiên, chỉ sau hơn 10 năm bệnh viện này đi vào hoạt động, quỹ ngoại VinaCapital và Deustche Bank đã chi 20 triệu USD thâu tóm 44% cổ phần của Hoàn Mỹ. Sau đó không lâu, Hoàn Mỹ được tập đoàn y tế Fortis (Ấn Độ) chi 64 triệu USD mua lại 65% cổ phần. Ba bên gồm VinaCapital, Deutsche Bank và ông Tùng đã rời khỏi Hoàn Mỹ.\\n\\nSau khi về tay doanh nghiệp ngoại, Hoàn Mỹ liên tục mở rộng quy mô, tích cực mua bán và sáp nhập các bệnh viện ở nhiều tỉnh, thành khác vào hệ thống. Ảnh: Hoàn Mỹ.\\n\\nĐến năm 2013, Fortis Healthcare bán lại hệ thống bệnh viện này cho Richard Chandler - tập đoàn đầu tư có trụ sở tại Singapore. Sau khi về tay Richard Chandler (nay là Clermont Group), Hoàn Mỹ liên tục mở rộng quy mô, tích cực mua bán và sáp nhập các bệnh viện ở nhiều tỉnh, thành khác vào hệ thống.\\n\\nHiện, Hoàn Mỹ sở hữu chuỗi 15 bệnh viện và 6 phòng khám như bệnh viện Mắt Quốc tế Hoàn Mỹ, Quốc tế Hạnh Phúc, Hoàn Mỹ Bình Dương, Quốc tế Hoàn Mỹ Thủ Đức, Hoàn Mỹ Đà Nẵng, Hoàn Mỹ Vinh... với tổng quy mô gần 3.000 giường.\\n\\nCòn với bệnh viện Đại học Y Dược Shing Mark, đây là bệnh viện tư nhân 100% vốn nước ngoài đầu tiên tại Đồng Nai, được thành lập vào ngày 15/9/2017 thuộc Tập đoàn Shing Mark (Đài Loan). Với quy mô 1.500 giường, bệnh viện có tổng vốn đầu tư lên đến 6.453 tỷ đồng (tương đương với 300 triệu USD ).\\n\\nBệnh viện này được xây dựng trên diện tích 87,5 ha tại phường Long Bình Tân (TP Biên Hòa). Đây là một trong số những công trình bệnh viện tư nhân có vốn nước ngoài lớn tại Việt Nam vào thời điểm 5 năm trước.\\n\\nKhối nội liên tục mở rộng\\n\\nTrong nước, nhiều ông lớn cũng đang tăng tốc chiếm lĩnh phân khúc bệnh viện tư nhân bằng nhiều dự án mới.\\n\\nSau khi khánh thành bệnh viện đầu tiên tại huyện Củ Chi (TP.HCM) vào năm 2014, Công ty CP Đầu tư Bệnh viện Xuyên Á đã không ngừng mở rộng thị phần ở các tỉnh Tây Ninh, Đắk Nông, Lâm Đồng, Vĩnh Long.\\n\\nHồi 2021, công ty này đã khánh thành Bệnh viện Đa khoa Xuyên Á - Long An quy mô hơn 1.000 giường bệnh. Đây là bệnh viện tư nhân có quy mô lớn nhất tỉnh Long An. Công ty cho biết sẽ tiếp tục đẩy mạnh đầu tư hình thành hệ thống bệnh viện ở nhiều tỉnh thành lân cận.\\n\\nNgoài ra, những năm gần đây, thị trường bệnh viện tư nhân cũng chứng kiến nhiều sự xuất hiện của các doanh nghiệp nội như Tập đoàn Thế Giới Kỹ Thuật (TWG) phát triển hệ thống cơ sở y tế là bệnh viện theo nhiều hình thức như tự đầu tư, M&A, hợp tác công tư (PPP) và xã hội hóa y tế tại khắp các tỉnh thành trên cả nước.\\n\\nHồi tháng 7/2020, Bệnh viện Sản Nhi TWG Long An quy mô 500 giường do TWG đầu tư đã đi vào hoạt động. Hiện, tập đoàn này đang xây dựng dự án Bệnh viện Hoàn Mỹ phía Tây (TP.HCM) với quy mô 350 giường, tổng vốn đầu tư 915 tỷ đồng .\\n\\nBệnh viện Vạn Phúc - Sài Gòn được đầu tư hơn 800 tỷ đồng . Ảnh: Vạn Phúc Group.\\n\\nHay Vạn Phúc Group cũng sắp đưa vào hoạt động Bệnh viện Vạn Phúc - Sài Gòn (TP.HCM) có tổng vốn đầu tư 864 tỷ đồng , quy mô 350 giường và 17 chuyên khoa.\\n\\nThị trường y tế đón dòng tiền ngoại\\n\\nMặt khác, một số doanh nghiệp nội cũng tăng tốc bằng cách hợp tác với các nhà đầu tư ngoại quốc. Thay vì tự đầu tư xây dựng bệnh viện, khối ngoại chọn cách gia tăng hiện diện tại thị trường y tế Việt qua hình thức M&A.\\n\\nMới nhất, Tập đoàn Raffles Medical (RMG) của tỷ phú Singapore Loo Choon Yong đã chi 45,6 triệu USD thâu tóm Bệnh viện quốc tế Mỹ (TP.HCM) từ Tiến Phước vào hồi tháng 10 năm ngoái.\\n\\nViệc mua lại bệnh viện từ tập đoàn nội địa được cho là sẽ giúp RMG nắm bắt cơ hội phát triển từ sự bùng nổ nhu cầu về dịch vụ chăm sóc sức khỏe tư nhân tại Việt Nam. Đồng thời, thương vụ hỗ trợ tham vọng trở thành nhà cung cấp dịch vụ y tế - chăm sóc sức khỏe chất lượng cao của tập đoàn này..\\n\\nNăm 2022, một nhóm nhà đầu tư do GIC đại diện cũng đã đầu tư vào công ty phát triển, vận hành hệ thống bệnh viện Đa khoa tư nhân quốc tế Vinmec. Khoản đầu tư trị giá khoảng 4.700 tỷ đồng , tương đương trên dưới 203 triệu USD . Tuy nhiên sau giao dịch, Vingroup vẫn là cổ đông chi phối duy nhất của công ty con này.\\n\\nVinmec hiện có 7 bệnh viện và 4 phòng khám đa khoa tiêu chuẩn quốc tế. Công ty con của Vingroup cũng đang triển khai nhiều dự án mới là Bệnh viện Vinmec Thiện Tâm Hà Tĩnh có quy mô 300 giường bệnh, với vốn đầu tư 730 tỷ đồng .\\n\\nTháng 5/2022, CVC Capital Partners cũng được biết tới với thương vụ mua 60% cổ phần Phương Châu Group (chủ đầu tư chuỗi Bệnh viện Quốc tế Phương Châu ở Cần Thơ, Sa Đéc - Đồng Tháp và Sóc Trăng).\\n\\nTrước đó, năm 2020, Hệ thống Y tế Thu Cúc (TCI) cũng chính thức trở thành doanh nghiệp có vốn đầu tư nước ngoài sau khi hoàn tất việc tiếp nhận vốn góp trị giá 26,7 triệu USD , tương ứng 30% cổ phần từ quỹ đầu tư tài chính Vinacapital.\\n\\nBệnh viện Đa khoa Quốc tế Thu Cúc được thành lập năm 2011, đến nay, TCI có một bệnh viện ở quận Tây Hồ, Hà Nội cùng 3 phòng khám tại các quận Cầu Giấy, Hoàng Mai, Thanh Xuân.\\n\\nNhững khoản đầu tư hàng chục triệu USD đến hàng trăm triệu USD từ các nhà đầu tư nước ngoài đã cho thấy sức hấp dẫn của dịch vụ khám chữa bệnh tại Việt Nam cũng như sự trưởng thành của khối bệnh viện tư nhân.',\n",
       " 'summary_text': 'Bệnh viện 100% vốn nước ngoài tại Việt Nam Bệnh viện Việt Pháp (Hà Nội) thành lập năm 1997 là bệnh viện 100% vốn nước ngoài đầu tiên tại Việt Nam. \\nTừ năm 2000, Công ty Eukaria (Pháp) tiếp quản bệnh viện sau khi mua cổ phần của Công ty Y tế Đông Dương (IMC) của Úc. \\nTháng 7/2023, Thomson Medical - gã khổng lồ trong lĩnh vực chăm sóc sức khỏe và y học tại Singapore và Malaysia - công bố chi 381,4 triệu USD để mua lại Công ty TNHH Far East Medical.\\n\\nNăm 2013, Fortis Healthcare bán hệ thống bệnh viện này cho Richard Chandler - tập đoàn đầu tư có trụ sở tại Singapore. \\nSau khi thuộc sở hữu của Richard Chandler (nay là Tập đoàn Clermont), Hoàn Mỹ liên tục mở rộng quy mô, tích cực mua bán, sáp nhập các bệnh viện ở nhiều tỉnh, thành khác.\\n\\nĐây là bệnh viện tư nhân lớn nhất tỉnh Long An. \\nCông ty cho biết sẽ tiếp tục đẩy mạnh đầu tư hình thành hệ thống bệnh viện tại nhiều tỉnh lân cận. \\nNhững năm gần đây, thị trường bệnh viện tư nhân cũng chứng kiến \\u200b\\u200bsự xuất hiện của nhiều doanh nghiệp trong nước như Tập đoàn Thế giới Kỹ thuật (TWG) phát triển hệ thống cơ sở y tế như bệnh viện.\\n\\nVinmec hiện có 7 bệnh viện và 4 phòng khám đa khoa đạt tiêu chuẩn quốc tế. \\nKhoản đầu tư có giá trị khoảng 4.700 tỷ đồng, tương đương khoảng 203 triệu USD.\\n'}"
      ]
     },
     "execution_count": 267,
     "metadata": {},
     "output_type": "execute_result"
    }
   ],
   "source": [
    "sum_news"
   ]
  },
  {
   "cell_type": "code",
   "execution_count": 268,
   "metadata": {},
   "outputs": [],
   "source": [
    "redis_db.save_news(full_news=sum_news)"
   ]
  },
  {
   "cell_type": "markdown",
   "metadata": {},
   "source": [
    "Giả sử ta lưu 6 bài báo top news vào redis"
   ]
  },
  {
   "cell_type": "code",
   "execution_count": 269,
   "metadata": {},
   "outputs": [
    {
     "name": "stdout",
     "output_type": "stream",
     "text": [
      "[Document(page_content='Trong sách “Những khoảnh khắc sống”, TS Lê Kiên Thành (con trai cố Tổng bí thư Lê Duẩn) kể về gia đình mình và những câu chuyện, những nhân vật của một thời đã qua.\\n\\nSách Những khoảnh khắc sống. Ảnh: Y Nguyên.\\n\\nTiến sĩ Lê Kiên Thành (1955) từng học trường lái máy bay, kỹ sư không quân, nghiên cứu sinh tại Viện Nghiên cứu Hạt nhân Dupna, Liên Xô. Ông có 11 năm phục vụ trong quân đội, binh chủng Phòng không - Không quân, là một doanh nhân từ năm 1993.\\n\\nNhững bài viết trên báo chí, mạng xã hội của ông đặt ra nhiều vấn đề, được nhiều người theo dõi. Nhưng ở cuốn sách mới phát hành - Những khoảnh khắc sống - Lê Kiên Thành trở thành người kể chuyện về những con người và một thời đã qua. Sách gồm 17 bài viết , được chia thành hai phần “Truyện” và “Tự sự”.\\n\\nThông qua những bài viết trong phần “Truyện”, đặc biệt là hai bài viết Làng ven sông, Gia đình má Chín Nhơn… tác giả kể câu chuyện điển hình về những năm tháng chiến tranh của dân tộc. Một truyện về làng quê miền Bắc, một về một gia đình miền Nam, cùng những câu chuyện về đời sống hậu phương, trong khu gia binh… đã dựng lại sống động sự hy sinh của một thế hệ trong chiến tranh, vì hòa bình.\\n\\nPhần hai là những hồi ức của TS Lê Kiên Thành về gia đình, bạn bè, người thân, gồm các bài viết như Bà nội, Chị tôi, Đồng đội, chú Việt Phương… Trong cuốn sách, tác giả không dành bài viết riêng nào về bố mình, nhưng người đọc vẫn nhận thấy bóng dáng cố Tổng bí thư Lê Duẩn qua các bài viết về gia đình, người thân.\\n\\nLý giải việc không viết riêng về bố, TS Lê Kiên Thành nói: “bố tôi là bố tôi, nhưng ông cũng là con người của lịch sử. Nếu là con người lịch sử, thì nên nói về ông ở chỗ chính thống”.\\n\\nỞ Những khoảnh khắc sống, mỗi truyện đều mang nội dung, thông điệp có thể trở thành một truyện ngắn, truyện vừa hoặc phát triển thành tiểu thuyết. Nhưng tác giả chọn hình thức “truyện kể”. Các truyện trong sách trải dài từ nông thôn đến thành thị, khu gia binh đến quán bar, trong nước, ngoài nước... cho thấy trải nghiệm rộng của tác giả.\\n\\nTrong buổi ra mắt sách hôm 30/1, TS Lê Kiên Thành khẳng định: “Tôi không phải một nhà văn. Tôi chỉ kể lại những gì đã đi qua đời mình; có những lúc mình kể chuyện mình, xen lẫn chuyện của người khác”.\\n\\nKhi chọn kể lại những câu chuyện về một thời chiến tranh, khó khăn, tác giả không muốn đưa cái khổ, cái khó đến lớp trẻ hôm nay. Ông viết với mong muốn có thể giúp người trẻ hôm nay biết về một thời đã qua, giúp lớp sau hiểu được dân tộc ta đã trải qua nhiều gian khó để có được ngày hôm nay.\\n\\nÔng Nguyễn Quang Thiều - Chủ tịch Hội Nhà văn Việt Nam - nhận xét với cuốn sách Những khoảnh khắc sống, Lê Kiên Thành là “một người kể chuyện của thế gian”. Những câu chuyện trong sách đã diễn ra rất lâu, thời đói rét và đất nước đương đầu với cuộc chiến tranh tàn khốc, đấu tranh cho hòa bình dân tộc.\\n\\nTheo ông Nguyễn Quang Thiều, những nhân vật trong sách đã đi qua hơn nửa thế kỷ. Nhà cửa, ẩm thực, quần áo… đã thay đổi. Nhưng ở đây có một sự bất biến là sự tử tế. TS Lê Kiên Thành đã mang sự tử tế hơn 50 năm trước, và lâu hơn nữa, kể lại với chúng ta, phục hồi vẻ đẹp của thời đại ông đang sống, vừa cảnh báo về những gì có thể giết chết vẻ đẹp ấy.\\n\\n“Lê Kiên Thành có thể trở thành nhà văn hay không không quan trọng. Ông là người kể chuyện, kể những câu chuyện tử tế”, Chủ tịch Hội Nhà văn Việt Nam nói.', metadata={'title': 'Gia đình cố Tổng bí thư Lê Duẩn qua hồi ức của TS Lê Kiên Thành', 'link': 'https://znews.vn/gia-dinh-co-tong-bi-thu-le-duan-qua-hoi-uc-cua-ts-le-kien-thanh-post1450645.html', 'authors': ['Y Nguyên'], 'language': 'vi', 'description': 'Trong sách “Những khoảnh khắc sống”, TS Lê Kiên Thành (con trai cố Tổng bí thư Lê Duẩn) kể về gia đình mình và những câu chuyện, những nhân vật của một thời đã qua.', 'publish_date': datetime.datetime(2024, 1, 31, 19, 49, 35, tzinfo=tzoffset(None, 25200))})]\n",
      "{'title': 'Gia đình cố Tổng bí thư Lê Duẩn qua hồi ức của TS Lê Kiên Thành', 'link': 'https://znews.vn/gia-dinh-co-tong-bi-thu-le-duan-qua-hoi-uc-cua-ts-le-kien-thanh-post1450645.html', 'authors': ['Y Nguyên'], 'language': 'vi', 'description': 'Trong sách “Những khoảnh khắc sống”, TS Lê Kiên Thành (con trai cố Tổng bí thư Lê Duẩn) kể về gia đình mình và những câu chuyện, những nhân vật của một thời đã qua.', 'publish_date': datetime.datetime(2024, 1, 31, 19, 49, 35, tzinfo=tzoffset(None, 25200))}\n"
     ]
    },
    {
     "name": "stderr",
     "output_type": "stream",
     "text": [
      "/root/code_Bao/News_mongo_redis/venv/lib/python3.10/site-packages/transformers/pipelines/base.py:1101: UserWarning: You seem to be using the pipelines sequentially on GPU. In order to maximize efficiency please use a dataset\n",
      "  warnings.warn(\n"
     ]
    },
    {
     "name": "stdout",
     "output_type": "stream",
     "text": [
      "[Document(page_content='Cuộc chiến tranh giành thị phần trong lĩnh vực chăm sóc sức khỏe đang \"nóng\" hơn khi ngày càng nhiều bệnh viện tư nhân được các doanh nghiệp trong và ngoài nước đầu tư mở rộng.\\n\\nHơn chục năm về trước, thị trường chăm sóc sức khỏe tại Việt Nam chủ yếu là sân chơi của các doanh nghiệp nội.\\n\\nNhưng đến nay, nhiều ông lớn ngoại đã và đang gia nhập vào cuộc đua giành vị thế trong lĩnh vực y tế bằng nhiều thương vụ mua bán và sáp nhập (M&A) đình đám.\\n\\nNhững bệnh viện 100% vốn ngoại tại Việt Nam\\n\\nBệnh viện Việt Pháp (Hà Nội) thành lập năm 1997 là bệnh viện 100% vốn nước ngoài đầu tiên ở Việt Nam. Từ năm 2000, công ty Eukaria (Pháp) tiếp quản bệnh viện sau khi mua lại cổ phần của Công ty Indochina Medical (IMC) của Australia. Sau hơn 25 năm hoạt động, đến nay bệnh viện đã nâng công suất lên 170 giường bệnh.\\n\\nCũng sở hữu 100% vốn nước ngoài, bệnh viện FV (TP.HCM) do bác sĩ Jean-Marcel Guillon và nhóm bác sĩ người Pháp thành lập năm 2003. FV có số vốn điều lệ ban đầu là 224 tỷ đồng .\\n\\nHiện FV có 230 giường bệnh, 36 chuyên khoa với khả năng tiếp nhận 1.500 lượt bệnh nhân mỗi ngày. Năm 2023, bệnh viện FV đưa vào hoạt động thêm một phòng khám đa khoa và trung tâm chẩn đoán ở trung tâm TP.HCM.\\n\\nHồi tháng 7/2023, Thomson Medical - ông lớn trong lĩnh vực chăm sóc sức khỏe, y tế Singapore và Malaysia - thông báo chi 381,4 triệu USD (khoảng hơn 9.000 tỷ đồng ) để mua lại Công ty TNHH Y tế Viễn Đông Việt Nam (FEMV) - chủ quản Bệnh viện FV (TP.HCM). Đây là thương vụ M&A trong lĩnh vực chăm sóc sức khỏe lớn nhất Đông Nam Á kể từ năm 2020.\\n\\nTrong khi đó, Hoàn Mỹ vốn là một \"ông lớn\" trong phân khúc bệnh viện tư nhân, được thành lập từ năm 1997 bởi bác sĩ Nguyễn Hữu Tùng. Đây cũng là một trong những hệ thống bệnh viện tư đầu tiên tại Việt Nam.\\n\\nTuy nhiên, chỉ sau hơn 10 năm bệnh viện này đi vào hoạt động, quỹ ngoại VinaCapital và Deustche Bank đã chi 20 triệu USD thâu tóm 44% cổ phần của Hoàn Mỹ. Sau đó không lâu, Hoàn Mỹ được tập đoàn y tế Fortis (Ấn Độ) chi 64 triệu USD mua lại 65% cổ phần. Ba bên gồm VinaCapital, Deutsche Bank và ông Tùng đã rời khỏi Hoàn Mỹ.\\n\\nSau khi về tay doanh nghiệp ngoại, Hoàn Mỹ liên tục mở rộng quy mô, tích cực mua bán và sáp nhập các bệnh viện ở nhiều tỉnh, thành khác vào hệ thống. Ảnh: Hoàn Mỹ.\\n\\nĐến năm 2013, Fortis Healthcare bán lại hệ thống bệnh viện này cho Richard Chandler - tập đoàn đầu tư có trụ sở tại Singapore. Sau khi về tay Richard Chandler (nay là Clermont Group), Hoàn Mỹ liên tục mở rộng quy mô, tích cực mua bán và sáp nhập các bệnh viện ở nhiều tỉnh, thành khác vào hệ thống.\\n\\nHiện, Hoàn Mỹ sở hữu chuỗi 15 bệnh viện và 6 phòng khám như bệnh viện Mắt Quốc tế Hoàn Mỹ, Quốc tế Hạnh Phúc, Hoàn Mỹ Bình Dương, Quốc tế Hoàn Mỹ Thủ Đức, Hoàn Mỹ Đà Nẵng, Hoàn Mỹ Vinh... với tổng quy mô gần 3.000 giường.\\n\\nCòn với bệnh viện Đại học Y Dược Shing Mark, đây là bệnh viện tư nhân 100% vốn nước ngoài đầu tiên tại Đồng Nai, được thành lập vào ngày 15/9/2017 thuộc Tập đoàn Shing Mark (Đài Loan). Với quy mô 1.500 giường, bệnh viện có tổng vốn đầu tư lên đến 6.453 tỷ đồng (tương đương với 300 triệu USD ).\\n\\nBệnh viện này được xây dựng trên diện tích 87,5 ha tại phường Long Bình Tân (TP Biên Hòa). Đây là một trong số những công trình bệnh viện tư nhân có vốn nước ngoài lớn tại Việt Nam vào thời điểm 5 năm trước.\\n\\nKhối nội liên tục mở rộng\\n\\nTrong nước, nhiều ông lớn cũng đang tăng tốc chiếm lĩnh phân khúc bệnh viện tư nhân bằng nhiều dự án mới.\\n\\nSau khi khánh thành bệnh viện đầu tiên tại huyện Củ Chi (TP.HCM) vào năm 2014, Công ty CP Đầu tư Bệnh viện Xuyên Á đã không ngừng mở rộng thị phần ở các tỉnh Tây Ninh, Đắk Nông, Lâm Đồng, Vĩnh Long.\\n\\nHồi 2021, công ty này đã khánh thành Bệnh viện Đa khoa Xuyên Á - Long An quy mô hơn 1.000 giường bệnh. Đây là bệnh viện tư nhân có quy mô lớn nhất tỉnh Long An. Công ty cho biết sẽ tiếp tục đẩy mạnh đầu tư hình thành hệ thống bệnh viện ở nhiều tỉnh thành lân cận.\\n\\nNgoài ra, những năm gần đây, thị trường bệnh viện tư nhân cũng chứng kiến nhiều sự xuất hiện của các doanh nghiệp nội như Tập đoàn Thế Giới Kỹ Thuật (TWG) phát triển hệ thống cơ sở y tế là bệnh viện theo nhiều hình thức như tự đầu tư, M&A, hợp tác công tư (PPP) và xã hội hóa y tế tại khắp các tỉnh thành trên cả nước.\\n\\nHồi tháng 7/2020, Bệnh viện Sản Nhi TWG Long An quy mô 500 giường do TWG đầu tư đã đi vào hoạt động. Hiện, tập đoàn này đang xây dựng dự án Bệnh viện Hoàn Mỹ phía Tây (TP.HCM) với quy mô 350 giường, tổng vốn đầu tư 915 tỷ đồng .\\n\\nBệnh viện Vạn Phúc - Sài Gòn được đầu tư hơn 800 tỷ đồng . Ảnh: Vạn Phúc Group.\\n\\nHay Vạn Phúc Group cũng sắp đưa vào hoạt động Bệnh viện Vạn Phúc - Sài Gòn (TP.HCM) có tổng vốn đầu tư 864 tỷ đồng , quy mô 350 giường và 17 chuyên khoa.\\n\\nThị trường y tế đón dòng tiền ngoại\\n\\nMặt khác, một số doanh nghiệp nội cũng tăng tốc bằng cách hợp tác với các nhà đầu tư ngoại quốc. Thay vì tự đầu tư xây dựng bệnh viện, khối ngoại chọn cách gia tăng hiện diện tại thị trường y tế Việt qua hình thức M&A.\\n\\nMới nhất, Tập đoàn Raffles Medical (RMG) của tỷ phú Singapore Loo Choon Yong đã chi 45,6 triệu USD thâu tóm Bệnh viện quốc tế Mỹ (TP.HCM) từ Tiến Phước vào hồi tháng 10 năm ngoái.\\n\\nViệc mua lại bệnh viện từ tập đoàn nội địa được cho là sẽ giúp RMG nắm bắt cơ hội phát triển từ sự bùng nổ nhu cầu về dịch vụ chăm sóc sức khỏe tư nhân tại Việt Nam. Đồng thời, thương vụ hỗ trợ tham vọng trở thành nhà cung cấp dịch vụ y tế - chăm sóc sức khỏe chất lượng cao của tập đoàn này..\\n\\nNăm 2022, một nhóm nhà đầu tư do GIC đại diện cũng đã đầu tư vào công ty phát triển, vận hành hệ thống bệnh viện Đa khoa tư nhân quốc tế Vinmec. Khoản đầu tư trị giá khoảng 4.700 tỷ đồng , tương đương trên dưới 203 triệu USD . Tuy nhiên sau giao dịch, Vingroup vẫn là cổ đông chi phối duy nhất của công ty con này.\\n\\nVinmec hiện có 7 bệnh viện và 4 phòng khám đa khoa tiêu chuẩn quốc tế. Công ty con của Vingroup cũng đang triển khai nhiều dự án mới là Bệnh viện Vinmec Thiện Tâm Hà Tĩnh có quy mô 300 giường bệnh, với vốn đầu tư 730 tỷ đồng .\\n\\nTháng 5/2022, CVC Capital Partners cũng được biết tới với thương vụ mua 60% cổ phần Phương Châu Group (chủ đầu tư chuỗi Bệnh viện Quốc tế Phương Châu ở Cần Thơ, Sa Đéc - Đồng Tháp và Sóc Trăng).\\n\\nTrước đó, năm 2020, Hệ thống Y tế Thu Cúc (TCI) cũng chính thức trở thành doanh nghiệp có vốn đầu tư nước ngoài sau khi hoàn tất việc tiếp nhận vốn góp trị giá 26,7 triệu USD , tương ứng 30% cổ phần từ quỹ đầu tư tài chính Vinacapital.\\n\\nBệnh viện Đa khoa Quốc tế Thu Cúc được thành lập năm 2011, đến nay, TCI có một bệnh viện ở quận Tây Hồ, Hà Nội cùng 3 phòng khám tại các quận Cầu Giấy, Hoàng Mai, Thanh Xuân.\\n\\nNhững khoản đầu tư hàng chục triệu USD đến hàng trăm triệu USD từ các nhà đầu tư nước ngoài đã cho thấy sức hấp dẫn của dịch vụ khám chữa bệnh tại Việt Nam cũng như sự trưởng thành của khối bệnh viện tư nhân.', metadata={'title': \"'Đại gia' nào đang hiện diện trên thị trường bệnh viện tư nhân?\", 'link': 'https://znews.vn/dai-gia-nao-dang-hien-dien-tren-thi-truong-benh-vien-tu-nhan-post1453268.html', 'authors': ['Thanh Thương'], 'language': 'vi', 'description': 'Cuộc chiến tranh giành thị phần trong lĩnh vực chăm sóc sức khỏe đang \"nóng\" hơn khi ngày càng nhiều bệnh viện tư nhân được các doanh nghiệp trong và ngoài nước đầu tư mở rộng.', 'publish_date': datetime.datetime(2024, 1, 8, 6, 0, 34, tzinfo=tzoffset(None, 25200))})]\n",
      "{'title': \"'Đại gia' nào đang hiện diện trên thị trường bệnh viện tư nhân?\", 'link': 'https://znews.vn/dai-gia-nao-dang-hien-dien-tren-thi-truong-benh-vien-tu-nhan-post1453268.html', 'authors': ['Thanh Thương'], 'language': 'vi', 'description': 'Cuộc chiến tranh giành thị phần trong lĩnh vực chăm sóc sức khỏe đang \"nóng\" hơn khi ngày càng nhiều bệnh viện tư nhân được các doanh nghiệp trong và ngoài nước đầu tư mở rộng.', 'publish_date': datetime.datetime(2024, 1, 8, 6, 0, 34, tzinfo=tzoffset(None, 25200))}\n"
     ]
    },
    {
     "name": "stderr",
     "output_type": "stream",
     "text": [
      "/root/code_Bao/News_mongo_redis/venv/lib/python3.10/site-packages/transformers/pipelines/base.py:1101: UserWarning: You seem to be using the pipelines sequentially on GPU. In order to maximize efficiency please use a dataset\n",
      "  warnings.warn(\n"
     ]
    }
   ],
   "source": [
    "full_news_list = []\n",
    "for i, document in enumerate(formatted_docs[:2]):\n",
    "    print(document)\n",
    "    input_dict = document[0].metadata\n",
    "    print(input_dict)\n",
    "    full_news = {\n",
    "        'title': input_dict['title'],\n",
    "        'link': input_dict['link'],\n",
    "        'authors': ', '.join(input_dict['authors']),\n",
    "        'publish_date': input_dict['publish_date'].strftime('%Y-%m-%d'),\n",
    "        'page_content': document[0].page_content,\n",
    "    }\n",
    "    sum_news = new_summarizer.summary_news_for_redis(full_news= full_news)\n",
    "    full_news_list.append(sum_news)\n",
    "    \n",
    "redis_db.save_news_in_batch(full_news_list=full_news_list)"
   ]
  },
  {
   "cell_type": "markdown",
   "metadata": {},
   "source": [
    "## Query check"
   ]
  },
  {
   "cell_type": "code",
   "execution_count": 270,
   "metadata": {},
   "outputs": [
    {
     "data": {
      "text/plain": [
       "[{'title': 'Gia đình cố Tổng bí thư Lê Duẩn qua hồi ức của TS Lê Kiên Thành',\n",
       "  'link': 'https://znews.vn/gia-dinh-co-tong-bi-thu-le-duan-qua-hoi-uc-cua-ts-le-kien-thanh-post1450645.html',\n",
       "  'authors': 'Y Nguyên',\n",
       "  'publish_date': '2024-01-31',\n",
       "  'page_content': 'Trong sách “Những khoảnh khắc sống”, TS Lê Kiên Thành (con trai cố Tổng bí thư Lê Duẩn) kể về gia đình mình và những câu chuyện, những nhân vật của một thời đã qua.\\n\\nSách Những khoảnh khắc sống. Ảnh: Y Nguyên.\\n\\nTiến sĩ Lê Kiên Thành (1955) từng học trường lái máy bay, kỹ sư không quân, nghiên cứu sinh tại Viện Nghiên cứu Hạt nhân Dupna, Liên Xô. Ông có 11 năm phục vụ trong quân đội, binh chủng Phòng không - Không quân, là một doanh nhân từ năm 1993.\\n\\nNhững bài viết trên báo chí, mạng xã hội của ông đặt ra nhiều vấn đề, được nhiều người theo dõi. Nhưng ở cuốn sách mới phát hành - Những khoảnh khắc sống - Lê Kiên Thành trở thành người kể chuyện về những con người và một thời đã qua. Sách gồm 17 bài viết , được chia thành hai phần “Truyện” và “Tự sự”.\\n\\nThông qua những bài viết trong phần “Truyện”, đặc biệt là hai bài viết Làng ven sông, Gia đình má Chín Nhơn… tác giả kể câu chuyện điển hình về những năm tháng chiến tranh của dân tộc. Một truyện về làng quê miền Bắc, một về một gia đình miền Nam, cùng những câu chuyện về đời sống hậu phương, trong khu gia binh… đã dựng lại sống động sự hy sinh của một thế hệ trong chiến tranh, vì hòa bình.\\n\\nPhần hai là những hồi ức của TS Lê Kiên Thành về gia đình, bạn bè, người thân, gồm các bài viết như Bà nội, Chị tôi, Đồng đội, chú Việt Phương… Trong cuốn sách, tác giả không dành bài viết riêng nào về bố mình, nhưng người đọc vẫn nhận thấy bóng dáng cố Tổng bí thư Lê Duẩn qua các bài viết về gia đình, người thân.\\n\\nLý giải việc không viết riêng về bố, TS Lê Kiên Thành nói: “bố tôi là bố tôi, nhưng ông cũng là con người của lịch sử. Nếu là con người lịch sử, thì nên nói về ông ở chỗ chính thống”.\\n\\nỞ Những khoảnh khắc sống, mỗi truyện đều mang nội dung, thông điệp có thể trở thành một truyện ngắn, truyện vừa hoặc phát triển thành tiểu thuyết. Nhưng tác giả chọn hình thức “truyện kể”. Các truyện trong sách trải dài từ nông thôn đến thành thị, khu gia binh đến quán bar, trong nước, ngoài nước... cho thấy trải nghiệm rộng của tác giả.\\n\\nTrong buổi ra mắt sách hôm 30/1, TS Lê Kiên Thành khẳng định: “Tôi không phải một nhà văn. Tôi chỉ kể lại những gì đã đi qua đời mình; có những lúc mình kể chuyện mình, xen lẫn chuyện của người khác”.\\n\\nKhi chọn kể lại những câu chuyện về một thời chiến tranh, khó khăn, tác giả không muốn đưa cái khổ, cái khó đến lớp trẻ hôm nay. Ông viết với mong muốn có thể giúp người trẻ hôm nay biết về một thời đã qua, giúp lớp sau hiểu được dân tộc ta đã trải qua nhiều gian khó để có được ngày hôm nay.\\n\\nÔng Nguyễn Quang Thiều - Chủ tịch Hội Nhà văn Việt Nam - nhận xét với cuốn sách Những khoảnh khắc sống, Lê Kiên Thành là “một người kể chuyện của thế gian”. Những câu chuyện trong sách đã diễn ra rất lâu, thời đói rét và đất nước đương đầu với cuộc chiến tranh tàn khốc, đấu tranh cho hòa bình dân tộc.\\n\\nTheo ông Nguyễn Quang Thiều, những nhân vật trong sách đã đi qua hơn nửa thế kỷ. Nhà cửa, ẩm thực, quần áo… đã thay đổi. Nhưng ở đây có một sự bất biến là sự tử tế. TS Lê Kiên Thành đã mang sự tử tế hơn 50 năm trước, và lâu hơn nữa, kể lại với chúng ta, phục hồi vẻ đẹp của thời đại ông đang sống, vừa cảnh báo về những gì có thể giết chết vẻ đẹp ấy.\\n\\n“Lê Kiên Thành có thể trở thành nhà văn hay không không quan trọng. Ông là người kể chuyện, kể những câu chuyện tử tế”, Chủ tịch Hội Nhà văn Việt Nam nói.',\n",
       "  'summary_text': 'Tiến sĩ Lê Kiến Thành (con trai cố Tổng Bí thư Lê Duẩn) kể về gia đình ông cùng những câu chuyện, nhân vật một thời đã qua. \\nSách gồm 17 bài, chia làm hai phần “Truyện” và “Tự sự” Tác giả kể một câu chuyện tiêu biểu về những năm tháng chiến tranh của dân tộc.\\n\\nTiến sĩ Lê Kiến Thành khẳng định: “Tôi không phải là nhà văn. Tôi chỉ kể lại những gì đã qua trong cuộc đời mình” Ông viết với mong muốn giúp giới trẻ ngày nay biết về một thời đã qua. \\nNhững câu chuyện trong sách diễn ra cách đây rất lâu, vào thời kỳ đói kém và giá lạnh.\\n'},\n",
       " {'title': \"'Đại gia' nào đang hiện diện trên thị trường bệnh viện tư nhân?\",\n",
       "  'link': 'https://znews.vn/dai-gia-nao-dang-hien-dien-tren-thi-truong-benh-vien-tu-nhan-post1453268.html',\n",
       "  'authors': 'Thanh Thương',\n",
       "  'publish_date': '2024-01-08',\n",
       "  'page_content': 'Cuộc chiến tranh giành thị phần trong lĩnh vực chăm sóc sức khỏe đang \"nóng\" hơn khi ngày càng nhiều bệnh viện tư nhân được các doanh nghiệp trong và ngoài nước đầu tư mở rộng.\\n\\nHơn chục năm về trước, thị trường chăm sóc sức khỏe tại Việt Nam chủ yếu là sân chơi của các doanh nghiệp nội.\\n\\nNhưng đến nay, nhiều ông lớn ngoại đã và đang gia nhập vào cuộc đua giành vị thế trong lĩnh vực y tế bằng nhiều thương vụ mua bán và sáp nhập (M&A) đình đám.\\n\\nNhững bệnh viện 100% vốn ngoại tại Việt Nam\\n\\nBệnh viện Việt Pháp (Hà Nội) thành lập năm 1997 là bệnh viện 100% vốn nước ngoài đầu tiên ở Việt Nam. Từ năm 2000, công ty Eukaria (Pháp) tiếp quản bệnh viện sau khi mua lại cổ phần của Công ty Indochina Medical (IMC) của Australia. Sau hơn 25 năm hoạt động, đến nay bệnh viện đã nâng công suất lên 170 giường bệnh.\\n\\nCũng sở hữu 100% vốn nước ngoài, bệnh viện FV (TP.HCM) do bác sĩ Jean-Marcel Guillon và nhóm bác sĩ người Pháp thành lập năm 2003. FV có số vốn điều lệ ban đầu là 224 tỷ đồng .\\n\\nHiện FV có 230 giường bệnh, 36 chuyên khoa với khả năng tiếp nhận 1.500 lượt bệnh nhân mỗi ngày. Năm 2023, bệnh viện FV đưa vào hoạt động thêm một phòng khám đa khoa và trung tâm chẩn đoán ở trung tâm TP.HCM.\\n\\nHồi tháng 7/2023, Thomson Medical - ông lớn trong lĩnh vực chăm sóc sức khỏe, y tế Singapore và Malaysia - thông báo chi 381,4 triệu USD (khoảng hơn 9.000 tỷ đồng ) để mua lại Công ty TNHH Y tế Viễn Đông Việt Nam (FEMV) - chủ quản Bệnh viện FV (TP.HCM). Đây là thương vụ M&A trong lĩnh vực chăm sóc sức khỏe lớn nhất Đông Nam Á kể từ năm 2020.\\n\\nTrong khi đó, Hoàn Mỹ vốn là một \"ông lớn\" trong phân khúc bệnh viện tư nhân, được thành lập từ năm 1997 bởi bác sĩ Nguyễn Hữu Tùng. Đây cũng là một trong những hệ thống bệnh viện tư đầu tiên tại Việt Nam.\\n\\nTuy nhiên, chỉ sau hơn 10 năm bệnh viện này đi vào hoạt động, quỹ ngoại VinaCapital và Deustche Bank đã chi 20 triệu USD thâu tóm 44% cổ phần của Hoàn Mỹ. Sau đó không lâu, Hoàn Mỹ được tập đoàn y tế Fortis (Ấn Độ) chi 64 triệu USD mua lại 65% cổ phần. Ba bên gồm VinaCapital, Deutsche Bank và ông Tùng đã rời khỏi Hoàn Mỹ.\\n\\nSau khi về tay doanh nghiệp ngoại, Hoàn Mỹ liên tục mở rộng quy mô, tích cực mua bán và sáp nhập các bệnh viện ở nhiều tỉnh, thành khác vào hệ thống. Ảnh: Hoàn Mỹ.\\n\\nĐến năm 2013, Fortis Healthcare bán lại hệ thống bệnh viện này cho Richard Chandler - tập đoàn đầu tư có trụ sở tại Singapore. Sau khi về tay Richard Chandler (nay là Clermont Group), Hoàn Mỹ liên tục mở rộng quy mô, tích cực mua bán và sáp nhập các bệnh viện ở nhiều tỉnh, thành khác vào hệ thống.\\n\\nHiện, Hoàn Mỹ sở hữu chuỗi 15 bệnh viện và 6 phòng khám như bệnh viện Mắt Quốc tế Hoàn Mỹ, Quốc tế Hạnh Phúc, Hoàn Mỹ Bình Dương, Quốc tế Hoàn Mỹ Thủ Đức, Hoàn Mỹ Đà Nẵng, Hoàn Mỹ Vinh... với tổng quy mô gần 3.000 giường.\\n\\nCòn với bệnh viện Đại học Y Dược Shing Mark, đây là bệnh viện tư nhân 100% vốn nước ngoài đầu tiên tại Đồng Nai, được thành lập vào ngày 15/9/2017 thuộc Tập đoàn Shing Mark (Đài Loan). Với quy mô 1.500 giường, bệnh viện có tổng vốn đầu tư lên đến 6.453 tỷ đồng (tương đương với 300 triệu USD ).\\n\\nBệnh viện này được xây dựng trên diện tích 87,5 ha tại phường Long Bình Tân (TP Biên Hòa). Đây là một trong số những công trình bệnh viện tư nhân có vốn nước ngoài lớn tại Việt Nam vào thời điểm 5 năm trước.\\n\\nKhối nội liên tục mở rộng\\n\\nTrong nước, nhiều ông lớn cũng đang tăng tốc chiếm lĩnh phân khúc bệnh viện tư nhân bằng nhiều dự án mới.\\n\\nSau khi khánh thành bệnh viện đầu tiên tại huyện Củ Chi (TP.HCM) vào năm 2014, Công ty CP Đầu tư Bệnh viện Xuyên Á đã không ngừng mở rộng thị phần ở các tỉnh Tây Ninh, Đắk Nông, Lâm Đồng, Vĩnh Long.\\n\\nHồi 2021, công ty này đã khánh thành Bệnh viện Đa khoa Xuyên Á - Long An quy mô hơn 1.000 giường bệnh. Đây là bệnh viện tư nhân có quy mô lớn nhất tỉnh Long An. Công ty cho biết sẽ tiếp tục đẩy mạnh đầu tư hình thành hệ thống bệnh viện ở nhiều tỉnh thành lân cận.\\n\\nNgoài ra, những năm gần đây, thị trường bệnh viện tư nhân cũng chứng kiến nhiều sự xuất hiện của các doanh nghiệp nội như Tập đoàn Thế Giới Kỹ Thuật (TWG) phát triển hệ thống cơ sở y tế là bệnh viện theo nhiều hình thức như tự đầu tư, M&A, hợp tác công tư (PPP) và xã hội hóa y tế tại khắp các tỉnh thành trên cả nước.\\n\\nHồi tháng 7/2020, Bệnh viện Sản Nhi TWG Long An quy mô 500 giường do TWG đầu tư đã đi vào hoạt động. Hiện, tập đoàn này đang xây dựng dự án Bệnh viện Hoàn Mỹ phía Tây (TP.HCM) với quy mô 350 giường, tổng vốn đầu tư 915 tỷ đồng .\\n\\nBệnh viện Vạn Phúc - Sài Gòn được đầu tư hơn 800 tỷ đồng . Ảnh: Vạn Phúc Group.\\n\\nHay Vạn Phúc Group cũng sắp đưa vào hoạt động Bệnh viện Vạn Phúc - Sài Gòn (TP.HCM) có tổng vốn đầu tư 864 tỷ đồng , quy mô 350 giường và 17 chuyên khoa.\\n\\nThị trường y tế đón dòng tiền ngoại\\n\\nMặt khác, một số doanh nghiệp nội cũng tăng tốc bằng cách hợp tác với các nhà đầu tư ngoại quốc. Thay vì tự đầu tư xây dựng bệnh viện, khối ngoại chọn cách gia tăng hiện diện tại thị trường y tế Việt qua hình thức M&A.\\n\\nMới nhất, Tập đoàn Raffles Medical (RMG) của tỷ phú Singapore Loo Choon Yong đã chi 45,6 triệu USD thâu tóm Bệnh viện quốc tế Mỹ (TP.HCM) từ Tiến Phước vào hồi tháng 10 năm ngoái.\\n\\nViệc mua lại bệnh viện từ tập đoàn nội địa được cho là sẽ giúp RMG nắm bắt cơ hội phát triển từ sự bùng nổ nhu cầu về dịch vụ chăm sóc sức khỏe tư nhân tại Việt Nam. Đồng thời, thương vụ hỗ trợ tham vọng trở thành nhà cung cấp dịch vụ y tế - chăm sóc sức khỏe chất lượng cao của tập đoàn này..\\n\\nNăm 2022, một nhóm nhà đầu tư do GIC đại diện cũng đã đầu tư vào công ty phát triển, vận hành hệ thống bệnh viện Đa khoa tư nhân quốc tế Vinmec. Khoản đầu tư trị giá khoảng 4.700 tỷ đồng , tương đương trên dưới 203 triệu USD . Tuy nhiên sau giao dịch, Vingroup vẫn là cổ đông chi phối duy nhất của công ty con này.\\n\\nVinmec hiện có 7 bệnh viện và 4 phòng khám đa khoa tiêu chuẩn quốc tế. Công ty con của Vingroup cũng đang triển khai nhiều dự án mới là Bệnh viện Vinmec Thiện Tâm Hà Tĩnh có quy mô 300 giường bệnh, với vốn đầu tư 730 tỷ đồng .\\n\\nTháng 5/2022, CVC Capital Partners cũng được biết tới với thương vụ mua 60% cổ phần Phương Châu Group (chủ đầu tư chuỗi Bệnh viện Quốc tế Phương Châu ở Cần Thơ, Sa Đéc - Đồng Tháp và Sóc Trăng).\\n\\nTrước đó, năm 2020, Hệ thống Y tế Thu Cúc (TCI) cũng chính thức trở thành doanh nghiệp có vốn đầu tư nước ngoài sau khi hoàn tất việc tiếp nhận vốn góp trị giá 26,7 triệu USD , tương ứng 30% cổ phần từ quỹ đầu tư tài chính Vinacapital.\\n\\nBệnh viện Đa khoa Quốc tế Thu Cúc được thành lập năm 2011, đến nay, TCI có một bệnh viện ở quận Tây Hồ, Hà Nội cùng 3 phòng khám tại các quận Cầu Giấy, Hoàng Mai, Thanh Xuân.\\n\\nNhững khoản đầu tư hàng chục triệu USD đến hàng trăm triệu USD từ các nhà đầu tư nước ngoài đã cho thấy sức hấp dẫn của dịch vụ khám chữa bệnh tại Việt Nam cũng như sự trưởng thành của khối bệnh viện tư nhân.',\n",
       "  'summary_text': 'Bệnh viện 100% vốn nước ngoài tại Việt Nam Bệnh viện Việt Pháp (Hà Nội) thành lập năm 1997 là bệnh viện 100% vốn nước ngoài đầu tiên tại Việt Nam. \\nTừ năm 2000, Công ty Eukaria (Pháp) tiếp quản bệnh viện sau khi mua cổ phần của Công ty Y tế Đông Dương (IMC) của Úc. \\nTháng 7/2023, Thomson Medical - gã khổng lồ trong lĩnh vực chăm sóc sức khỏe và y học tại Singapore và Malaysia - công bố chi 381,4 triệu USD để mua lại Công ty TNHH Far East Medical.\\n\\nNăm 2013, Fortis Healthcare bán hệ thống bệnh viện này cho Richard Chandler - tập đoàn đầu tư có trụ sở tại Singapore. \\nSau khi thuộc sở hữu của Richard Chandler (nay là Tập đoàn Clermont), Hoàn Mỹ liên tục mở rộng quy mô, tích cực mua bán, sáp nhập các bệnh viện ở nhiều tỉnh, thành khác.\\n\\nĐây là bệnh viện tư nhân lớn nhất tỉnh Long An. \\nCông ty cho biết sẽ tiếp tục đẩy mạnh đầu tư hình thành hệ thống bệnh viện tại nhiều tỉnh lân cận. \\nNhững năm gần đây, thị trường bệnh viện tư nhân cũng chứng kiến \\u200b\\u200bsự xuất hiện của nhiều doanh nghiệp trong nước như Tập đoàn Thế giới Kỹ thuật (TWG) phát triển hệ thống cơ sở y tế như bệnh viện.\\n\\nVinmec hiện có 7 bệnh viện và 4 phòng khám đa khoa đạt tiêu chuẩn quốc tế. \\nKhoản đầu tư có giá trị khoảng 4.700 tỷ đồng, tương đương khoảng 203 triệu USD.\\n'}]"
      ]
     },
     "execution_count": 270,
     "metadata": {},
     "output_type": "execute_result"
    }
   ],
   "source": [
    "full_news_list"
   ]
  },
  {
   "cell_type": "code",
   "execution_count": 271,
   "metadata": {},
   "outputs": [],
   "source": [
    "redis_db.save_news_in_batch(full_news_list=full_news_list)"
   ]
  },
  {
   "cell_type": "code",
   "execution_count": 272,
   "metadata": {},
   "outputs": [
    {
     "data": {
      "text/plain": [
       "Result{1 total, docs: [Document {'id': 'title:Gia đình cố Tổng bí thư Lê Duẩn qua hồi ức của TS Lê Kiên Thành', 'payload': None, 'json': '{\"title\":\"Gia đình cố Tổng bí thư Lê Duẩn qua hồi ức của TS Lê Kiên Thành\",\"link\":\"https://znews.vn/gia-dinh-co-tong-bi-thu-le-duan-qua-hoi-uc-cua-ts-le-kien-thanh-post1450645.html\",\"authors\":\"Y Nguyên\",\"publish_date\":\"2024-01-31\",\"page_content\":\"Trong sách “Những khoảnh khắc sống”, TS Lê Kiên Thành (con trai cố Tổng bí thư Lê Duẩn) kể về gia đình mình và những câu chuyện, những nhân vật của một thời đã qua.\\\\n\\\\nSách Những khoảnh khắc sống. Ảnh: Y Nguyên.\\\\n\\\\nTiến sĩ Lê Kiên Thành (1955) từng học trường lái máy bay, kỹ sư không quân, nghiên cứu sinh tại Viện Nghiên cứu Hạt nhân Dupna, Liên Xô. Ông có 11 năm phục vụ trong quân đội, binh chủng Phòng không - Không quân, là một doanh nhân từ năm 1993.\\\\n\\\\nNhững bài viết trên báo chí, mạng xã hội của ông đặt ra nhiều vấn đề, được nhiều người theo dõi. Nhưng ở cuốn sách mới phát hành - Những khoảnh khắc sống - Lê Kiên Thành trở thành người kể chuyện về những con người và một thời đã qua. Sách gồm 17 bài viết , được chia thành hai phần “Truyện” và “Tự sự”.\\\\n\\\\nThông qua những bài viết trong phần “Truyện”, đặc biệt là hai bài viết Làng ven sông, Gia đình má Chín Nhơn… tác giả kể câu chuyện điển hình về những năm tháng chiến tranh của dân tộc. Một truyện về làng quê miền Bắc, một về một gia đình miền Nam, cùng những câu chuyện về đời sống hậu phương, trong khu gia binh… đã dựng lại sống động sự hy sinh của một thế hệ trong chiến tranh, vì hòa bình.\\\\n\\\\nPhần hai là những hồi ức của TS Lê Kiên Thành về gia đình, bạn bè, người thân, gồm các bài viết như Bà nội, Chị tôi, Đồng đội, chú Việt Phương… Trong cuốn sách, tác giả không dành bài viết riêng nào về bố mình, nhưng người đọc vẫn nhận thấy bóng dáng cố Tổng bí thư Lê Duẩn qua các bài viết về gia đình, người thân.\\\\n\\\\nLý giải việc không viết riêng về bố, TS Lê Kiên Thành nói: “bố tôi là bố tôi, nhưng ông cũng là con người của lịch sử. Nếu là con người lịch sử, thì nên nói về ông ở chỗ chính thống”.\\\\n\\\\nỞ Những khoảnh khắc sống, mỗi truyện đều mang nội dung, thông điệp có thể trở thành một truyện ngắn, truyện vừa hoặc phát triển thành tiểu thuyết. Nhưng tác giả chọn hình thức “truyện kể”. Các truyện trong sách trải dài từ nông thôn đến thành thị, khu gia binh đến quán bar, trong nước, ngoài nước... cho thấy trải nghiệm rộng của tác giả.\\\\n\\\\nTrong buổi ra mắt sách hôm 30/1, TS Lê Kiên Thành khẳng định: “Tôi không phải một nhà văn. Tôi chỉ kể lại những gì đã đi qua đời mình; có những lúc mình kể chuyện mình, xen lẫn chuyện của người khác”.\\\\n\\\\nKhi chọn kể lại những câu chuyện về một thời chiến tranh, khó khăn, tác giả không muốn đưa cái khổ, cái khó đến lớp trẻ hôm nay. Ông viết với mong muốn có thể giúp người trẻ hôm nay biết về một thời đã qua, giúp lớp sau hiểu được dân tộc ta đã trải qua nhiều gian khó để có được ngày hôm nay.\\\\n\\\\nÔng Nguyễn Quang Thiều - Chủ tịch Hội Nhà văn Việt Nam - nhận xét với cuốn sách Những khoảnh khắc sống, Lê Kiên Thành là “một người kể chuyện của thế gian”. Những câu chuyện trong sách đã diễn ra rất lâu, thời đói rét và đất nước đương đầu với cuộc chiến tranh tàn khốc, đấu tranh cho hòa bình dân tộc.\\\\n\\\\nTheo ông Nguyễn Quang Thiều, những nhân vật trong sách đã đi qua hơn nửa thế kỷ. Nhà cửa, ẩm thực, quần áo… đã thay đổi. Nhưng ở đây có một sự bất biến là sự tử tế. TS Lê Kiên Thành đã mang sự tử tế hơn 50 năm trước, và lâu hơn nữa, kể lại với chúng ta, phục hồi vẻ đẹp của thời đại ông đang sống, vừa cảnh báo về những gì có thể giết chết vẻ đẹp ấy.\\\\n\\\\n“Lê Kiên Thành có thể trở thành nhà văn hay không không quan trọng. Ông là người kể chuyện, kể những câu chuyện tử tế”, Chủ tịch Hội Nhà văn Việt Nam nói.\",\"summary_text\":\"Tiến sĩ Lê Kiến Thành (con trai cố Tổng Bí thư Lê Duẩn) kể về gia đình ông cùng những câu chuyện, nhân vật một thời đã qua. \\\\nSách gồm 17 bài, chia làm hai phần “Truyện” và “Tự sự” Tác giả kể một câu chuyện tiêu biểu về những năm tháng chiến tranh của dân tộc.\\\\n\\\\nTiến sĩ Lê Kiến Thành khẳng định: “Tôi không phải là nhà văn. Tôi chỉ kể lại những gì đã qua trong cuộc đời mình” Ông viết với mong muốn giúp giới trẻ ngày nay biết về một thời đã qua. \\\\nNhững câu chuyện trong sách diễn ra cách đây rất lâu, vào thời kỳ đói kém và giá lạnh.\\\\n\"}'}]}"
      ]
     },
     "execution_count": 272,
     "metadata": {},
     "output_type": "execute_result"
    }
   ],
   "source": [
    "redis_db.get_news_with_title(text='tổng bí thư')"
   ]
  },
  {
   "cell_type": "code",
   "execution_count": 273,
   "metadata": {},
   "outputs": [
    {
     "data": {
      "text/plain": [
       "Result{1 total, docs: [Document {'id': 'title:Gia đình cố Tổng bí thư Lê Duẩn qua hồi ức của TS Lê Kiên Thành', 'payload': None, 'json': '{\"title\":\"Gia đình cố Tổng bí thư Lê Duẩn qua hồi ức của TS Lê Kiên Thành\",\"link\":\"https://znews.vn/gia-dinh-co-tong-bi-thu-le-duan-qua-hoi-uc-cua-ts-le-kien-thanh-post1450645.html\",\"authors\":\"Y Nguyên\",\"publish_date\":\"2024-01-31\",\"page_content\":\"Trong sách “Những khoảnh khắc sống”, TS Lê Kiên Thành (con trai cố Tổng bí thư Lê Duẩn) kể về gia đình mình và những câu chuyện, những nhân vật của một thời đã qua.\\\\n\\\\nSách Những khoảnh khắc sống. Ảnh: Y Nguyên.\\\\n\\\\nTiến sĩ Lê Kiên Thành (1955) từng học trường lái máy bay, kỹ sư không quân, nghiên cứu sinh tại Viện Nghiên cứu Hạt nhân Dupna, Liên Xô. Ông có 11 năm phục vụ trong quân đội, binh chủng Phòng không - Không quân, là một doanh nhân từ năm 1993.\\\\n\\\\nNhững bài viết trên báo chí, mạng xã hội của ông đặt ra nhiều vấn đề, được nhiều người theo dõi. Nhưng ở cuốn sách mới phát hành - Những khoảnh khắc sống - Lê Kiên Thành trở thành người kể chuyện về những con người và một thời đã qua. Sách gồm 17 bài viết , được chia thành hai phần “Truyện” và “Tự sự”.\\\\n\\\\nThông qua những bài viết trong phần “Truyện”, đặc biệt là hai bài viết Làng ven sông, Gia đình má Chín Nhơn… tác giả kể câu chuyện điển hình về những năm tháng chiến tranh của dân tộc. Một truyện về làng quê miền Bắc, một về một gia đình miền Nam, cùng những câu chuyện về đời sống hậu phương, trong khu gia binh… đã dựng lại sống động sự hy sinh của một thế hệ trong chiến tranh, vì hòa bình.\\\\n\\\\nPhần hai là những hồi ức của TS Lê Kiên Thành về gia đình, bạn bè, người thân, gồm các bài viết như Bà nội, Chị tôi, Đồng đội, chú Việt Phương… Trong cuốn sách, tác giả không dành bài viết riêng nào về bố mình, nhưng người đọc vẫn nhận thấy bóng dáng cố Tổng bí thư Lê Duẩn qua các bài viết về gia đình, người thân.\\\\n\\\\nLý giải việc không viết riêng về bố, TS Lê Kiên Thành nói: “bố tôi là bố tôi, nhưng ông cũng là con người của lịch sử. Nếu là con người lịch sử, thì nên nói về ông ở chỗ chính thống”.\\\\n\\\\nỞ Những khoảnh khắc sống, mỗi truyện đều mang nội dung, thông điệp có thể trở thành một truyện ngắn, truyện vừa hoặc phát triển thành tiểu thuyết. Nhưng tác giả chọn hình thức “truyện kể”. Các truyện trong sách trải dài từ nông thôn đến thành thị, khu gia binh đến quán bar, trong nước, ngoài nước... cho thấy trải nghiệm rộng của tác giả.\\\\n\\\\nTrong buổi ra mắt sách hôm 30/1, TS Lê Kiên Thành khẳng định: “Tôi không phải một nhà văn. Tôi chỉ kể lại những gì đã đi qua đời mình; có những lúc mình kể chuyện mình, xen lẫn chuyện của người khác”.\\\\n\\\\nKhi chọn kể lại những câu chuyện về một thời chiến tranh, khó khăn, tác giả không muốn đưa cái khổ, cái khó đến lớp trẻ hôm nay. Ông viết với mong muốn có thể giúp người trẻ hôm nay biết về một thời đã qua, giúp lớp sau hiểu được dân tộc ta đã trải qua nhiều gian khó để có được ngày hôm nay.\\\\n\\\\nÔng Nguyễn Quang Thiều - Chủ tịch Hội Nhà văn Việt Nam - nhận xét với cuốn sách Những khoảnh khắc sống, Lê Kiên Thành là “một người kể chuyện của thế gian”. Những câu chuyện trong sách đã diễn ra rất lâu, thời đói rét và đất nước đương đầu với cuộc chiến tranh tàn khốc, đấu tranh cho hòa bình dân tộc.\\\\n\\\\nTheo ông Nguyễn Quang Thiều, những nhân vật trong sách đã đi qua hơn nửa thế kỷ. Nhà cửa, ẩm thực, quần áo… đã thay đổi. Nhưng ở đây có một sự bất biến là sự tử tế. TS Lê Kiên Thành đã mang sự tử tế hơn 50 năm trước, và lâu hơn nữa, kể lại với chúng ta, phục hồi vẻ đẹp của thời đại ông đang sống, vừa cảnh báo về những gì có thể giết chết vẻ đẹp ấy.\\\\n\\\\n“Lê Kiên Thành có thể trở thành nhà văn hay không không quan trọng. Ông là người kể chuyện, kể những câu chuyện tử tế”, Chủ tịch Hội Nhà văn Việt Nam nói.\",\"summary_text\":\"Tiến sĩ Lê Kiến Thành (con trai cố Tổng Bí thư Lê Duẩn) kể về gia đình ông cùng những câu chuyện, nhân vật một thời đã qua. \\\\nSách gồm 17 bài, chia làm hai phần “Truyện” và “Tự sự” Tác giả kể một câu chuyện tiêu biểu về những năm tháng chiến tranh của dân tộc.\\\\n\\\\nTiến sĩ Lê Kiến Thành khẳng định: “Tôi không phải là nhà văn. Tôi chỉ kể lại những gì đã qua trong cuộc đời mình” Ông viết với mong muốn giúp giới trẻ ngày nay biết về một thời đã qua. \\\\nNhững câu chuyện trong sách diễn ra cách đây rất lâu, vào thời kỳ đói kém và giá lạnh.\\\\n\"}'}]}"
      ]
     },
     "execution_count": 273,
     "metadata": {},
     "output_type": "execute_result"
    }
   ],
   "source": [
    "redis_db.get_news_with_page_content_match(text='tổng bí thư')\n"
   ]
  },
  {
   "cell_type": "code",
   "execution_count": 274,
   "metadata": {},
   "outputs": [
    {
     "data": {
      "text/plain": [
       "Result{1 total, docs: [Document {'id': 'title:Gia đình cố Tổng bí thư Lê Duẩn qua hồi ức của TS Lê Kiên Thành', 'payload': None, 'json': '{\"title\":\"Gia đình cố Tổng bí thư Lê Duẩn qua hồi ức của TS Lê Kiên Thành\",\"link\":\"https://znews.vn/gia-dinh-co-tong-bi-thu-le-duan-qua-hoi-uc-cua-ts-le-kien-thanh-post1450645.html\",\"authors\":\"Y Nguyên\",\"publish_date\":\"2024-01-31\",\"page_content\":\"Trong sách “Những khoảnh khắc sống”, TS Lê Kiên Thành (con trai cố Tổng bí thư Lê Duẩn) kể về gia đình mình và những câu chuyện, những nhân vật của một thời đã qua.\\\\n\\\\nSách Những khoảnh khắc sống. Ảnh: Y Nguyên.\\\\n\\\\nTiến sĩ Lê Kiên Thành (1955) từng học trường lái máy bay, kỹ sư không quân, nghiên cứu sinh tại Viện Nghiên cứu Hạt nhân Dupna, Liên Xô. Ông có 11 năm phục vụ trong quân đội, binh chủng Phòng không - Không quân, là một doanh nhân từ năm 1993.\\\\n\\\\nNhững bài viết trên báo chí, mạng xã hội của ông đặt ra nhiều vấn đề, được nhiều người theo dõi. Nhưng ở cuốn sách mới phát hành - Những khoảnh khắc sống - Lê Kiên Thành trở thành người kể chuyện về những con người và một thời đã qua. Sách gồm 17 bài viết , được chia thành hai phần “Truyện” và “Tự sự”.\\\\n\\\\nThông qua những bài viết trong phần “Truyện”, đặc biệt là hai bài viết Làng ven sông, Gia đình má Chín Nhơn… tác giả kể câu chuyện điển hình về những năm tháng chiến tranh của dân tộc. Một truyện về làng quê miền Bắc, một về một gia đình miền Nam, cùng những câu chuyện về đời sống hậu phương, trong khu gia binh… đã dựng lại sống động sự hy sinh của một thế hệ trong chiến tranh, vì hòa bình.\\\\n\\\\nPhần hai là những hồi ức của TS Lê Kiên Thành về gia đình, bạn bè, người thân, gồm các bài viết như Bà nội, Chị tôi, Đồng đội, chú Việt Phương… Trong cuốn sách, tác giả không dành bài viết riêng nào về bố mình, nhưng người đọc vẫn nhận thấy bóng dáng cố Tổng bí thư Lê Duẩn qua các bài viết về gia đình, người thân.\\\\n\\\\nLý giải việc không viết riêng về bố, TS Lê Kiên Thành nói: “bố tôi là bố tôi, nhưng ông cũng là con người của lịch sử. Nếu là con người lịch sử, thì nên nói về ông ở chỗ chính thống”.\\\\n\\\\nỞ Những khoảnh khắc sống, mỗi truyện đều mang nội dung, thông điệp có thể trở thành một truyện ngắn, truyện vừa hoặc phát triển thành tiểu thuyết. Nhưng tác giả chọn hình thức “truyện kể”. Các truyện trong sách trải dài từ nông thôn đến thành thị, khu gia binh đến quán bar, trong nước, ngoài nước... cho thấy trải nghiệm rộng của tác giả.\\\\n\\\\nTrong buổi ra mắt sách hôm 30/1, TS Lê Kiên Thành khẳng định: “Tôi không phải một nhà văn. Tôi chỉ kể lại những gì đã đi qua đời mình; có những lúc mình kể chuyện mình, xen lẫn chuyện của người khác”.\\\\n\\\\nKhi chọn kể lại những câu chuyện về một thời chiến tranh, khó khăn, tác giả không muốn đưa cái khổ, cái khó đến lớp trẻ hôm nay. Ông viết với mong muốn có thể giúp người trẻ hôm nay biết về một thời đã qua, giúp lớp sau hiểu được dân tộc ta đã trải qua nhiều gian khó để có được ngày hôm nay.\\\\n\\\\nÔng Nguyễn Quang Thiều - Chủ tịch Hội Nhà văn Việt Nam - nhận xét với cuốn sách Những khoảnh khắc sống, Lê Kiên Thành là “một người kể chuyện của thế gian”. Những câu chuyện trong sách đã diễn ra rất lâu, thời đói rét và đất nước đương đầu với cuộc chiến tranh tàn khốc, đấu tranh cho hòa bình dân tộc.\\\\n\\\\nTheo ông Nguyễn Quang Thiều, những nhân vật trong sách đã đi qua hơn nửa thế kỷ. Nhà cửa, ẩm thực, quần áo… đã thay đổi. Nhưng ở đây có một sự bất biến là sự tử tế. TS Lê Kiên Thành đã mang sự tử tế hơn 50 năm trước, và lâu hơn nữa, kể lại với chúng ta, phục hồi vẻ đẹp của thời đại ông đang sống, vừa cảnh báo về những gì có thể giết chết vẻ đẹp ấy.\\\\n\\\\n“Lê Kiên Thành có thể trở thành nhà văn hay không không quan trọng. Ông là người kể chuyện, kể những câu chuyện tử tế”, Chủ tịch Hội Nhà văn Việt Nam nói.\",\"summary_text\":\"Tiến sĩ Lê Kiến Thành (con trai cố Tổng Bí thư Lê Duẩn) kể về gia đình ông cùng những câu chuyện, nhân vật một thời đã qua. \\\\nSách gồm 17 bài, chia làm hai phần “Truyện” và “Tự sự” Tác giả kể một câu chuyện tiêu biểu về những năm tháng chiến tranh của dân tộc.\\\\n\\\\nTiến sĩ Lê Kiến Thành khẳng định: “Tôi không phải là nhà văn. Tôi chỉ kể lại những gì đã qua trong cuộc đời mình” Ông viết với mong muốn giúp giới trẻ ngày nay biết về một thời đã qua. \\\\nNhững câu chuyện trong sách diễn ra cách đây rất lâu, vào thời kỳ đói kém và giá lạnh.\\\\n\"}'}]}"
      ]
     },
     "execution_count": 274,
     "metadata": {},
     "output_type": "execute_result"
    }
   ],
   "source": [
    "res = redis_db.rs.search(Query(f\"@page_content: Tổng bí thư\"))\n",
    "res"
   ]
  },
  {
   "cell_type": "code",
   "execution_count": null,
   "metadata": {},
   "outputs": [],
   "source": []
  }
 ],
 "metadata": {
  "kernelspec": {
   "display_name": "venv",
   "language": "python",
   "name": "python3"
  },
  "language_info": {
   "codemirror_mode": {
    "name": "ipython",
    "version": 3
   },
   "file_extension": ".py",
   "mimetype": "text/x-python",
   "name": "python",
   "nbconvert_exporter": "python",
   "pygments_lexer": "ipython3",
   "version": "3.10.12"
  }
 },
 "nbformat": 4,
 "nbformat_minor": 2
}
