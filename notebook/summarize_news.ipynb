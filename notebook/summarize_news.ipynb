{
 "cells": [
  {
   "cell_type": "code",
   "execution_count": 1,
   "metadata": {},
   "outputs": [
    {
     "name": "stdout",
     "output_type": "stream",
     "text": [
      "/root/code_Bao/News_mongo_redis/notebook\n"
     ]
    }
   ],
   "source": [
    "import os\n",
    "try:\n",
    "    print(file_path)\n",
    "except:\n",
    "    file_path = os.path.abspath('')\n",
    "    os.chdir(os.path.dirname(file_path))\n",
    "    print(file_path)"
   ]
  },
  {
   "cell_type": "code",
   "execution_count": 12,
   "metadata": {},
   "outputs": [],
   "source": [
    "import sys\n",
    "sys.path.append(\"\")\n",
    "\n",
    "from datetime import datetime\n",
    "import requests\n",
    "from dotenv import load_dotenv\n",
    "load_dotenv()\n",
    "import os\n",
    "\n",
    "from src.crawl_and_summarize_news import *"
   ]
  },
  {
   "cell_type": "code",
   "execution_count": 3,
   "metadata": {},
   "outputs": [
    {
     "name": "stdout",
     "output_type": "stream",
     "text": [
      "Crawling url: https://znews.vn/\n",
      "Crawling url: https://cafef.vn/\n"
     ]
    }
   ],
   "source": [
    "news_scraper = NewsScraper()\n",
    "formatted_docs = news_scraper.get_all_news()"
   ]
  },
  {
   "cell_type": "code",
   "execution_count": 4,
   "metadata": {},
   "outputs": [
    {
     "name": "stdout",
     "output_type": "stream",
     "text": [
      "Năm 2023 phá kỷ lục về lượng tài liệu lưu hành trên thư viện số. Hà Lan là một câu chuyện rõ ràng cho thành công của việc đưa người dân đến với thế giới văn học số.\n",
      "\n",
      "Nhiều quan chức của nền tảng hàng đầu về cung cấp sách điện tử cho thư viện OverDrive cho biết năm 2023 là một năm phá kỷ lục về lượng lưu hành trên thư viện số, với số lượng người từng sử dụng trên thư viện số tăng 19% so với năm 2022.\n",
      "\n",
      "Dấu mốc phát triển thư viện số năm 2023\n",
      "\n",
      "Tổng cộng, người dùng thư viện trên toàn thế giới đã mượn khoảng 662 triệu sách điện tử, sách nói số và tạp chí số, đại diện OverDrive công bố. Ngoài ra, 152 hệ thống thư viện đã báo cáo hơn một triệu lượt thanh toán số vào năm 2023, tăng so với 129 lượt vào năm ngoái.\n",
      "\n",
      "Lượng người dùng các nền tảng thư viện số liên tục tăng. Ảnh: Goodereader.\n",
      "\n",
      "Ứng dụng đọc sách số của OverDrive, Libby, cũng đã đạt được một cột mốc quan trọng vào đầu năm 2023, vượt qua một tỷ lượt dùng kể từ khi ra mắt. Số lượt cài đặt ứng dụng này cũng đã tăng 22% trong cùng năm.\n",
      "\n",
      "OverDrive cho biết tổng số 662 triệu lượt sử dụng trên nền tảng của họ được chia nhỏ gồm: Mượn sách điện tử là 370 triệu lượt(+12%), mượn sách nói là 235 triệu lượt(+23%), mượn tạp chí điện tử là 56 triệu lượt (+75%), mượn truyện tranh số và tiểu thuyết đồ họa là 37 triệu lượt (+14%) và 253 triệu lượt (+19%) đưa sách điện tử và sách nói vào danh sách chờ mượn.\n",
      "\n",
      "Thành công này phần nào được thúc đẩy nhờ sức hút từ tác phẩm của các tác giả ăn khách như Colleen Hoover hay Rebecca Yarros, cũng như nhiều tính năng và dịch vụ mới của các nền tảng mượn sách số.\n",
      "\n",
      "Câu chuyện thành công từ Hà Lan\n",
      "\n",
      "Ngành thư viện Hà Lan cũng đã đánh dấu một cột mốc quan trọng sau 10 năm triển khai chương trình số hoá, theo NL Times.\n",
      "\n",
      "Ông Jet Bussemaker, cựu Bộ trưởng Bộ Văn hóa Hà Lan, đã chính thức khởi động chương trình thư viện trực tuyến Bibliotheek vào năm 2014. Cuốn sách điện tử đầu tiên được người dùng mượn qua nền tảng này là cuốn Vaslav của Arthur Japin, kể về cuộc đời của vũ công ba lê huyền thoại Vaslav Nijinsky (1890-1950).\n",
      "\n",
      "Thư viện trực tuyến Bibliotheek tại Hà Lan đã thu được lượng người dùng đáng kể. Ảnh: Goodereader.\n",
      "\n",
      "Ngay năm đầu tiên triển khai chương trình, đã có gần 80.000 người dùng mượn tổng số gần 810.000 sách điện tử.\n",
      "\n",
      "Và đến năm 2024, hơn 600.000 người hàng năm truy cập vào Bibliotheek và lượt mượn sách điện tử là khoảng 2 triệu. Sự gia tăng đáng chú ý này một phần là do khoảng thời gian người dân Hà Lan chịu nhiều hạn chế đi lại vì dịch Covid-19.\n",
      "\n",
      "Hiện tại, người dân Hà Lan có thể truy cập Bibliotheek đầy đủ bằng việc đăng ký làm thành viên tại thư viện địa phương hoặc đăng ký trên nền tảng của thư viện quốc gia Hà Lan (KB). Từ năm 2020, ứng dụng ThuisBieb được ra mắt cũng giúp những người không phải là thành viên có thể tiếp cận 100 sách điện tử và sách nói miễn phí.\n",
      "\n",
      "Ông Ronald Huizer, một thành viên của Hội đồng quản trị KB, nhắc tới vai trò tiên phong của Bibliotheek là thư viện đầu tiên ở châu Âu cho phép nhiều người dùng mượn cùng một cuốn sách điện tử. Ông Huizer lưu ý: “Trước đại dịch, 3 đến 4 triệu sách điện tử được mượn hàng năm. Kể từ đó, con số dễ dàng vượt mốc 5 triệu và tăng dần.”\n",
      "\n",
      "Trong bối cảnh văn học số ngày càng phát triển, các ứng dụng mới tiếp tục xuất hiện. Năm 2023 ghi nhận sự ra mắt của ứng dụng LEES (READ), mang đến cho sinh viên cơ hội tải xuống 120 cuốn sách điện tử và sách nói miễn phí. Ông Huizer thông báo những kết quả ban đầu đầy hứa hẹn, với gần 40.000 sách điện tử và sách nói được mượn kể từ khi ứng dụng này ra mắt vào tháng 9/2023.\n",
      "\n",
      "Hiện tại, ngành thư viện Hà Lan cũng đang hướng tới hỗ trợ những người không có thói quen đọc sách nhiều hoặc những cá nhân đang trong quá trình học đọc. Bằng việc triển khai nhiều sáng kiến nhằm khuyến khích việc đọc, ngành thư viện Hà Lan tiếp tục phát triển và thích ứng, nhằm đảm bảo tất cả đều có thể tiếp cận nguồn sách và tài liệu cần thiết.\n",
      "{'title': 'Xu hướng thư viện số phát triển mạnh', 'link': 'https://znews.vn/xu-huong-thu-vien-so-phat-trien-manh-post1456639.html', 'authors': ['Minh Hoa'], 'language': 'vi', 'description': 'Năm 2023 phá kỷ lục về lượng tài liệu lưu hành trên thư viện số. Hà Lan là một câu chuyện rõ ràng cho thành công của việc đưa người dân đến với thế giới văn học số.', 'publish_date': datetime.datetime(2024, 1, 24, 10, 53, 46, tzinfo=tzoffset(None, 25200))}\n"
     ]
    }
   ],
   "source": [
    "print(formatted_docs[2][0].page_content)\n",
    "print(formatted_docs[2][0].metadata)"
   ]
  },
  {
   "cell_type": "code",
   "execution_count": 9,
   "metadata": {},
   "outputs": [],
   "source": [
    "full_news = news_scraper.take_news_elements(news_url='https://znews.vn/bo-doi-iphone-mai-van-khong-bi-khai-tu-o-viet-nam-post1458086.html')"
   ]
  },
  {
   "cell_type": "code",
   "execution_count": 11,
   "metadata": {},
   "outputs": [
    {
     "data": {
      "text/plain": [
       "'iPhone 11, iPhone 12 không còn trên website Apple, nhưng vẫn được sản xuất mới để bán ở những thị trường như Việt Nam, Ấn Độ.\\n\\nKhông còn xuất hiện trên web Apple hay các thị trường lớn, iPhone 11, iPhone 12 vẫn được bán tại Việt Nam. Ảnh: PhoneArena.\\n\\nKhi ra mắt dòng iPhone 15 hồi tháng 9/2023, Apple âm thầm loại bỏ iPhone 12 khỏi danh sách thiết bị hãng còn sản xuất và kinh doanh. Mẫu iPhone 11 cũng bị “khai tử” trước đó một năm, cả hai không còn hiện diện trên cửa hàng trực tuyến của hãng. Tuy nhiên, hai chiếc máy nói trên vẫn đang được bán rộng rãi tại thị trường Việt Nam thông các kênh bán lẻ.\\n\\nTrong đó, chiếc iPhone 11 hiện có giá niêm yết khoảng 10 triệu đồng, không có nhiều chênh lệch giữa các đại lý. Phiên bản 64 GB của model nói trên là chiếc iPhone chính hãng giá rẻ nhất đang còn bán tại Việt Nam. Cao hơn khoảng 3 triệu đồng là chiếc iPhone 12 bộ nhớ mặc định. Cả hai mẫu máy này đều không có mặt trên trang web chính thức của Apple.\\n\\nMẫu máy 5 năm tuổi vẫn được sản xuất mới để phân phối chính hãng ở Việt Nam. Ảnh: TGDĐ.\\n\\n“Apple không trực tiếp phân phối iPhone 11, nguồn hàng được cung ứng qua các đối tác khác. Sức mua những dòng máy đời cũ của Táo khuyết vẫn ổn định nhờ có giá bán phải chăng”, đại diện nhà bán lẻ Thế Giới Di Động trả lời Tri Thức - ZNews.\\n\\nTheo ông Nguyễn Lạc Huy, đại diện truyền thông hệ thống CellphoneS, dòng iPhone 11 hiện chiếm khoảng 10% doanh số điện thoại Apple tại công ty. iPhone 12 ở mức 5%. “Dòng máy nói trên không còn niêm yết trên website Apple nhưng vẫn được hãng sản xuất để cung ứng cho các thị trường mới nổi như Việt Nam, Ấn Độ”, ông Huy cho biết.\\n\\nDo vậy, những chiếc iPhone 11, 12 đang kinh doanh ở hệ thống trong nước không phải mặt hàng tồn kho, mà được sản xuất mới. Thực tế, Apple từng sản xuất nhiều dòng máy cũ ở nhà máy tại Ấn Độ để cung ứng cho thị trường nói trên.\\n\\nNhư vậy, người dùng tại Việt Nam có thể chọn mua iPhone 10-30 triệu đồng, trải dài ở phân khúc giá. Ngoài đời iPhone 11, 12, với giá 15-16 triệu đồng, iPhone 13 được các nhà bán lẻ cho biết đang đóng góp phần doanh thu khá lớn cho ngành hàng. Ngoài ra còn có các lựa chọn cao hơn như iPhone 14/14 Plus và iPhone 15 series.\\n\\niPhone 11, iPhone 12 không còn xuất hiện trên website Apple. Ảnh: Apple.\\n\\nViệc sản xuất và kinh doanh thiết bị đời sâu như iPhone 11/12 cho thấy Apple có những hướng đi riêng phù hợp với thị trường Việt Nam. Hãng vẫn có sản phẩm dành riêng cho phân khúc giá này ở thị trường quốc tế, là chiếc iPhone SE 2022, mới hơn iPhone 11 đến 3 năm. Tuy nhiên, dòng máy giá rẻ, kích thước nhỏ gọn này không được người dùng trong nước ưa chuộng. Thiết kế kiểu cũ cùng mác \"iPhone giá rẻ\" khiến sản phẩm ế ẩm.\\n\\nViệc thay thế dòng SE bằng chiếc iPhone 11/12 giúp hãng tăng lợi thế cạnh tranh với các thiết bị Android có thiết kế tràn viền kiểu mới và màn hình lớn. Mẫu điện thoại ra mắt năm 2019 cũng từng là sản phẩm chủ chốt, nâng thị phần của Apple tại Việt Nam trong giai đoạn 2021-2023.\\n\\nTuy nhiên ở thời điểm hiện tại, iPhone 11 bắt đầu có những dấu hiệu lỗi thời. Sản phẩm ra mắt từ 2019, sẽ chỉ được hãng hỗ trợ cập nhật iOS thêm 1-2 năm. Màn hình HD và vi xử lý A13 Bionic cũng không phải thông số nổi trội trong phân khúc giá, với các đối thủ Android đời mới như Galaxy A series của Samsung hay OPPO Reno11.'"
      ]
     },
     "execution_count": 11,
     "metadata": {},
     "output_type": "execute_result"
    }
   ],
   "source": [
    "full_news[0].page_content"
   ]
  },
  {
   "cell_type": "code",
   "execution_count": 10,
   "metadata": {},
   "outputs": [
    {
     "data": {
      "text/plain": [
       "{'title': \"Bộ đôi iPhone mãi vẫn không bị 'khai tử' ở Việt Nam\",\n",
       " 'link': 'https://znews.vn/bo-doi-iphone-mai-van-khong-bi-khai-tu-o-viet-nam-post1458086.html',\n",
       " 'authors': ['Xuân Sang'],\n",
       " 'language': 'vi',\n",
       " 'description': 'iPhone 11, iPhone 12 không còn trên website Apple, nhưng vẫn được sản xuất mới để bán ở những thị trường như Việt Nam, Ấn Độ.',\n",
       " 'publish_date': datetime.datetime(2024, 2, 2, 18, 46, 52, tzinfo=tzoffset(None, 25200))}"
      ]
     },
     "execution_count": 10,
     "metadata": {},
     "output_type": "execute_result"
    }
   ],
   "source": [
    "full_news[0].metadata"
   ]
  },
  {
   "cell_type": "code",
   "execution_count": 14,
   "metadata": {},
   "outputs": [],
   "source": [
    "input_dict = full_news[0].metadata\n",
    "full_news = {\n",
    "    'title': input_dict['title'],\n",
    "    'link': input_dict['link'],\n",
    "    'authors': input_dict['authors'],\n",
    "    'publish_date': input_dict['publish_date'],\n",
    "    'page_content': full_news[0].page_content,\n",
    "}"
   ]
  },
  {
   "cell_type": "code",
   "execution_count": null,
   "metadata": {},
   "outputs": [],
   "source": [
    "\n",
    "class NewsSummarizer:\n",
    "    def __init__(self, summarizer = pipeline(\"summarization\", \n",
    "                                             model=\"Falconsai/text_summarization\", device = take_device()),\n",
    "                 translator = GoogleTranslator(),\n",
    "                 max_length:int=230, \n",
    "                 min_length:int=30,\n",
    "                 ):\n",
    "        self.summarizer = summarizer\n",
    "        self.translator = translator\n",
    "        self.max_length = max_length\n",
    "        self.min_length = min_length\n",
    "        \n",
    "    def summary_text(self,text:str)->str:\n",
    "        '''Summary short text'''\n",
    "        sum_text = self.summarizer(text, max_length=self.max_length, \n",
    "                                   min_length=self.min_length, do_sample=False)[0]['summary_text']\n",
    "        return sum_text\n",
    "    \n",
    "    def summary_news(self, news:str, chunk_overlap:str = 0)->str:\n",
    "        with no_ssl_verification():\n",
    "            text_splitter = TokenTextSplitter(chunk_size=self.max_length * 2,\n",
    "                                            chunk_overlap=chunk_overlap)\n",
    "            \n",
    "            trans_news = self.translator.translate(text=news, to_lang='en')\n",
    "            text_chunks = text_splitter.split_text(trans_news)\n",
    "            summary_documents = [self.summary_text(chunk) for chunk in text_chunks]\n",
    "            summary_text = '\\n'.join(summary_documents)\n",
    "\n",
    "            summary_text = self.translator.translate(text=summary_text, to_lang='vi')\n",
    "        return summary_text\n",
    "    \n",
    "    def summary_news_for_redis(self, full_news:dict, content_element:str = 'page_content'):\n",
    "        '''\n",
    "        full_news is like\n",
    "        {'title': 'Lì xì hơn 6.000 cuốn sách tại Đường sách Tết 2024',\n",
    "            'link': 'https://znews.vn/li-xi-hon-6-nghin-cuon-sach-tai-duong-sach-tet-2024-post1457886.html',\n",
    "            'authors': ['Đông Miên'],\n",
    "            'publish_date': datetime.datetime(2024, 1, 31, 7, 0, 41, tzinfo=tzoffset(None, 25200)),\n",
    "            'page_content': 'Ban tổ chức}\n",
    "\n",
    "        Output is with the summary text\n",
    "        '''\n",
    "\n",
    "        text = full_news['page_content']\n",
    "        full_news['summary_text'] = self.summary_news(news = text)\n",
    "        return full_news\n"
   ]
  },
  {
   "cell_type": "code",
   "execution_count": 15,
   "metadata": {},
   "outputs": [],
   "source": [
    "new_summarizer = NewsSummarizer()\n",
    "sum_news = new_summarizer.summary_news_for_redis(full_news= full_news)"
   ]
  },
  {
   "cell_type": "code",
   "execution_count": 17,
   "metadata": {},
   "outputs": [
    {
     "data": {
      "text/plain": [
       "{'title': \"Bộ đôi iPhone mãi vẫn không bị 'khai tử' ở Việt Nam\",\n",
       " 'link': 'https://znews.vn/bo-doi-iphone-mai-van-khong-bi-khai-tu-o-viet-nam-post1458086.html',\n",
       " 'authors': ['Xuân Sang'],\n",
       " 'publish_date': datetime.datetime(2024, 2, 2, 18, 46, 52, tzinfo=tzoffset(None, 25200)),\n",
       " 'page_content': 'iPhone 11, iPhone 12 không còn trên website Apple, nhưng vẫn được sản xuất mới để bán ở những thị trường như Việt Nam, Ấn Độ.\\n\\nKhông còn xuất hiện trên web Apple hay các thị trường lớn, iPhone 11, iPhone 12 vẫn được bán tại Việt Nam. Ảnh: PhoneArena.\\n\\nKhi ra mắt dòng iPhone 15 hồi tháng 9/2023, Apple âm thầm loại bỏ iPhone 12 khỏi danh sách thiết bị hãng còn sản xuất và kinh doanh. Mẫu iPhone 11 cũng bị “khai tử” trước đó một năm, cả hai không còn hiện diện trên cửa hàng trực tuyến của hãng. Tuy nhiên, hai chiếc máy nói trên vẫn đang được bán rộng rãi tại thị trường Việt Nam thông các kênh bán lẻ.\\n\\nTrong đó, chiếc iPhone 11 hiện có giá niêm yết khoảng 10 triệu đồng, không có nhiều chênh lệch giữa các đại lý. Phiên bản 64 GB của model nói trên là chiếc iPhone chính hãng giá rẻ nhất đang còn bán tại Việt Nam. Cao hơn khoảng 3 triệu đồng là chiếc iPhone 12 bộ nhớ mặc định. Cả hai mẫu máy này đều không có mặt trên trang web chính thức của Apple.\\n\\nMẫu máy 5 năm tuổi vẫn được sản xuất mới để phân phối chính hãng ở Việt Nam. Ảnh: TGDĐ.\\n\\n“Apple không trực tiếp phân phối iPhone 11, nguồn hàng được cung ứng qua các đối tác khác. Sức mua những dòng máy đời cũ của Táo khuyết vẫn ổn định nhờ có giá bán phải chăng”, đại diện nhà bán lẻ Thế Giới Di Động trả lời Tri Thức - ZNews.\\n\\nTheo ông Nguyễn Lạc Huy, đại diện truyền thông hệ thống CellphoneS, dòng iPhone 11 hiện chiếm khoảng 10% doanh số điện thoại Apple tại công ty. iPhone 12 ở mức 5%. “Dòng máy nói trên không còn niêm yết trên website Apple nhưng vẫn được hãng sản xuất để cung ứng cho các thị trường mới nổi như Việt Nam, Ấn Độ”, ông Huy cho biết.\\n\\nDo vậy, những chiếc iPhone 11, 12 đang kinh doanh ở hệ thống trong nước không phải mặt hàng tồn kho, mà được sản xuất mới. Thực tế, Apple từng sản xuất nhiều dòng máy cũ ở nhà máy tại Ấn Độ để cung ứng cho thị trường nói trên.\\n\\nNhư vậy, người dùng tại Việt Nam có thể chọn mua iPhone 10-30 triệu đồng, trải dài ở phân khúc giá. Ngoài đời iPhone 11, 12, với giá 15-16 triệu đồng, iPhone 13 được các nhà bán lẻ cho biết đang đóng góp phần doanh thu khá lớn cho ngành hàng. Ngoài ra còn có các lựa chọn cao hơn như iPhone 14/14 Plus và iPhone 15 series.\\n\\niPhone 11, iPhone 12 không còn xuất hiện trên website Apple. Ảnh: Apple.\\n\\nViệc sản xuất và kinh doanh thiết bị đời sâu như iPhone 11/12 cho thấy Apple có những hướng đi riêng phù hợp với thị trường Việt Nam. Hãng vẫn có sản phẩm dành riêng cho phân khúc giá này ở thị trường quốc tế, là chiếc iPhone SE 2022, mới hơn iPhone 11 đến 3 năm. Tuy nhiên, dòng máy giá rẻ, kích thước nhỏ gọn này không được người dùng trong nước ưa chuộng. Thiết kế kiểu cũ cùng mác \"iPhone giá rẻ\" khiến sản phẩm ế ẩm.\\n\\nViệc thay thế dòng SE bằng chiếc iPhone 11/12 giúp hãng tăng lợi thế cạnh tranh với các thiết bị Android có thiết kế tràn viền kiểu mới và màn hình lớn. Mẫu điện thoại ra mắt năm 2019 cũng từng là sản phẩm chủ chốt, nâng thị phần của Apple tại Việt Nam trong giai đoạn 2021-2023.\\n\\nTuy nhiên ở thời điểm hiện tại, iPhone 11 bắt đầu có những dấu hiệu lỗi thời. Sản phẩm ra mắt từ 2019, sẽ chỉ được hãng hỗ trợ cập nhật iOS thêm 1-2 năm. Màn hình HD và vi xử lý A13 Bionic cũng không phải thông số nổi trội trong phân khúc giá, với các đối thủ Android đời mới như Galaxy A series của Samsung hay OPPO Reno11.',\n",
       " 'summary_text': 'iPhone 11 và iPhone 12 vẫn mới được sản xuất để phân phối chính hãng tại Việt Nam. \\nMẫu iPhone 11 cũng đã bị “ngưng sản xuất” cách đây một năm, cả hai đều không còn hiện diện trên cửa hàng trực tuyến của Apple. \\nĐặc biệt, iPhone 11 hiện có giá niêm yết khoảng 10 triệu đồng.\\n\\niPhone 13 được cho là đang đóng góp phần lớn doanh thu cho ngành. \\nNgoài ra còn có những lựa chọn cao hơn như iPhone 14/14 Plus và iPhone 15 series. \\nApple vẫn có sản phẩm dành riêng cho phân khúc giá này trên thị trường quốc tế.\\n'}"
      ]
     },
     "execution_count": 17,
     "metadata": {},
     "output_type": "execute_result"
    }
   ],
   "source": [
    "sum_news"
   ]
  },
  {
   "cell_type": "code",
   "execution_count": null,
   "metadata": {},
   "outputs": [],
   "source": []
  }
 ],
 "metadata": {
  "kernelspec": {
   "display_name": "venv",
   "language": "python",
   "name": "python3"
  },
  "language_info": {
   "codemirror_mode": {
    "name": "ipython",
    "version": 3
   },
   "file_extension": ".py",
   "mimetype": "text/x-python",
   "name": "python",
   "nbconvert_exporter": "python",
   "pygments_lexer": "ipython3",
   "version": "3.10.12"
  }
 },
 "nbformat": 4,
 "nbformat_minor": 2
}
